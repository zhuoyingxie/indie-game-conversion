{
 "cells": [
  {
   "cell_type": "code",
   "execution_count": 215,
   "id": "20fea9f6-784b-456b-bafd-abd2aed5ec1c",
   "metadata": {},
   "outputs": [],
   "source": [
    "import pandas as pd\n",
    "import numpy as np\n",
    "import matplotlib.pyplot as plt\n",
    "import seaborn as sns\n",
    "from matplotlib.ticker import PercentFormatter\n",
    "import warnings\n",
    "warnings.filterwarnings('ignore')\n",
    "import plotly.express as px\n",
    "import plotly.graph_objects as go"
   ]
  },
  {
   "cell_type": "markdown",
   "id": "fa95f331-d6b4-4350-9dfc-3b5a2d93a0be",
   "metadata": {},
   "source": [
    "import data"
   ]
  },
  {
   "cell_type": "code",
   "execution_count": 217,
   "id": "d70bba2f-07ac-498d-b384-109add9cdeb1",
   "metadata": {},
   "outputs": [],
   "source": [
    "import os\n",
    "os.chdir(\"G:\\ANACONDA\\data\")\n",
    "df=pd.read_excel(\"games_indie.xlsx\")"
   ]
  },
  {
   "cell_type": "code",
   "execution_count": 218,
   "id": "c450a58f-e81f-48ab-9b42-30dd794ade5a",
   "metadata": {},
   "outputs": [
    {
     "name": "stdout",
     "output_type": "stream",
     "text": [
      "   Unnamed: 0          Title         Release Date                   Team  \\\n",
      "0           1          Hades  2019-12-10 00:00:00   ['Supergiant Games']   \n",
      "1           3      Undertale  2015-09-15 00:00:00     ['tobyfox', '8-4']   \n",
      "2           4  Hollow Knight  2017-02-24 00:00:00        ['Team Cherry']   \n",
      "3           6          Omori  2020-12-25 00:00:00  ['OMOCAT', 'PLAYISM']   \n",
      "4           8       Among Us  2018-06-15 00:00:00         ['InnerSloth']   \n",
      "\n",
      "   Rating Times Listed Number of Reviews  \\\n",
      "0     4.3         2.9K              2.9K   \n",
      "1     4.2         3.5K              3.5K   \n",
      "2     4.4           3K                3K   \n",
      "3     4.2         1.6K              1.6K   \n",
      "4     3.0          867               867   \n",
      "\n",
      "                                              Genres  \\\n",
      "0           ['Adventure', 'Brawler', 'Indie', 'RPG']   \n",
      "1  ['Adventure', 'Indie', 'RPG', 'Turn Based Stra...   \n",
      "2                 ['Adventure', 'Indie', 'Platform']   \n",
      "3  ['Adventure', 'Indie', 'RPG', 'Turn Based Stra...   \n",
      "4                              ['Indie', 'Strategy']   \n",
      "\n",
      "                                             Summary  \\\n",
      "0  A rogue-lite hack and slash dungeon crawler in...   \n",
      "1  A small child falls into the Underground, wher...   \n",
      "2  A 2D metroidvania with an emphasis on close co...   \n",
      "3  A turn-based surreal horror RPG in which a chi...   \n",
      "4  Join your crew-mates in a multiplayer game of ...   \n",
      "\n",
      "                                             Reviews Plays Playing Backlogs  \\\n",
      "0  ['convinced this is a roguelike for people who...   21K    3.2K     6.3K   \n",
      "1  ['soundtrack is tied for #1 with nier automata...   28K     679     4.9K   \n",
      "2  [\"this games worldbuilding is incredible, with...   21K    2.4K     8.3K   \n",
      "3  [\"The best game I've played in my life\", \"omor...  7.2K    1.1K     4.5K   \n",
      "4  [\"it's a solid party game. i'm bad at lying th...   25K     470      776   \n",
      "\n",
      "  Wishlist  \n",
      "0     3.6K  \n",
      "1     1.8K  \n",
      "2     2.3K  \n",
      "3     3.8K  \n",
      "4      126  \n"
     ]
    }
   ],
   "source": [
    "print(df.head())"
   ]
  },
  {
   "cell_type": "code",
   "execution_count": 219,
   "id": "0d16898b-88bc-4710-8c76-738af518e820",
   "metadata": {},
   "outputs": [],
   "source": [
    "df = df.iloc[:,1:]"
   ]
  },
  {
   "cell_type": "markdown",
   "id": "60e52b1a-0fcc-4fea-b656-fdcb033fc840",
   "metadata": {},
   "source": [
    "pre-process and cleaning"
   ]
  },
  {
   "cell_type": "code",
   "execution_count": 221,
   "id": "b46fd08a-1919-4b76-94bf-ba3a7a2dcb31",
   "metadata": {},
   "outputs": [
    {
     "name": "stdout",
     "output_type": "stream",
     "text": [
      "   Times Listed  Number of Reviews  Plays  Playing  Backlogs  Wishlist\n",
      "0          2900               2900  21000     3200      6300      3600\n",
      "1          3500               3500  28000      679      4900      1800\n",
      "2          3000               3000  21000     2400      8300      2300\n",
      "3          1600               1600   7200     1100      4500      3800\n",
      "4           867                867  25000      470       776       126\n",
      "5          1500               1500   7700      801      2500      3400\n",
      "6          2800               2800  20000     1200      5900      2000\n",
      "7          1100               1100   6000     1200      5000      2700\n",
      "8          1900               1900  18000     1200      4500      2600\n",
      "9           820                820   2200      419      1900      2200\n"
     ]
    }
   ],
   "source": [
    "#convert k_string to value\n",
    "def convert_k(val):\n",
    "        if isinstance(val,str):\n",
    "            val = val.strip()\n",
    "            if val.endswith(\"K\"):\n",
    "                try:\n",
    "                    return int(float(val[:-1])*1000)\n",
    "                except ValueError:\n",
    "                    return None\n",
    "            else:\n",
    "                try:\n",
    "                    return int(val)\n",
    "                except ValueError:\n",
    "                    return None\n",
    "        return val\n",
    "\n",
    "cols_to_convert = [\"Times Listed\",\"Number of Reviews\",\"Plays\",\"Playing\",\"Backlogs\",\"Wishlist\"]\n",
    "\n",
    "for col in cols_to_convert:\n",
    "    if col in df.columns:\n",
    "        df[col]=df[col].apply(convert_k)\n",
    "\n",
    "print(df[cols_to_convert].head(10))\n",
    "df = df.dropna(subset=cols_to_convert)"
   ]
  },
  {
   "cell_type": "code",
   "execution_count": 222,
   "id": "fc2d9dcc-15eb-4a92-9f0a-6564a3649e17",
   "metadata": {},
   "outputs": [],
   "source": [
    "df['Release Date'] = pd.to_datetime(df[\"Release Date\"], errors=\"coerce\")"
   ]
  },
  {
   "cell_type": "code",
   "execution_count": 223,
   "id": "41f8d09c-9b75-488e-bcb7-e4efdf00df60",
   "metadata": {},
   "outputs": [],
   "source": [
    "df.to_csv(\"games_cleaned.csv\", index=False)"
   ]
  },
  {
   "cell_type": "code",
   "execution_count": 224,
   "id": "895a1bfc-4bd2-4e1e-9122-bfb60992a0f5",
   "metadata": {},
   "outputs": [
    {
     "name": "stdout",
     "output_type": "stream",
     "text": [
      "           Title Release Date                   Team  Rating  Times Listed  \\\n",
      "0          Hades   2019-12-10   ['Supergiant Games']     4.3          2900   \n",
      "1      Undertale   2015-09-15     ['tobyfox', '8-4']     4.2          3500   \n",
      "2  Hollow Knight   2017-02-24        ['Team Cherry']     4.4          3000   \n",
      "3          Omori   2020-12-25  ['OMOCAT', 'PLAYISM']     4.2          1600   \n",
      "4       Among Us   2018-06-15         ['InnerSloth']     3.0           867   \n",
      "\n",
      "   Number of Reviews                                             Genres  \\\n",
      "0               2900           ['Adventure', 'Brawler', 'Indie', 'RPG']   \n",
      "1               3500  ['Adventure', 'Indie', 'RPG', 'Turn Based Stra...   \n",
      "2               3000                 ['Adventure', 'Indie', 'Platform']   \n",
      "3               1600  ['Adventure', 'Indie', 'RPG', 'Turn Based Stra...   \n",
      "4                867                              ['Indie', 'Strategy']   \n",
      "\n",
      "                                             Summary  \\\n",
      "0  A rogue-lite hack and slash dungeon crawler in...   \n",
      "1  A small child falls into the Underground, wher...   \n",
      "2  A 2D metroidvania with an emphasis on close co...   \n",
      "3  A turn-based surreal horror RPG in which a chi...   \n",
      "4  Join your crew-mates in a multiplayer game of ...   \n",
      "\n",
      "                                             Reviews  Plays  Playing  \\\n",
      "0  ['convinced this is a roguelike for people who...  21000     3200   \n",
      "1  ['soundtrack is tied for #1 with nier automata...  28000      679   \n",
      "2  [\"this games worldbuilding is incredible, with...  21000     2400   \n",
      "3  [\"The best game I've played in my life\", \"omor...   7200     1100   \n",
      "4  [\"it's a solid party game. i'm bad at lying th...  25000      470   \n",
      "\n",
      "   Backlogs  Wishlist  \n",
      "0      6300      3600  \n",
      "1      4900      1800  \n",
      "2      8300      2300  \n",
      "3      4500      3800  \n",
      "4       776       126  \n"
     ]
    }
   ],
   "source": [
    "df1=pd.read_csv(\"games_cleaned.csv\")\n",
    "print(df1.head())"
   ]
  },
  {
   "cell_type": "markdown",
   "id": "fbf47549-b97f-4ef0-88b9-662d8f8b5ffb",
   "metadata": {},
   "source": [
    "1. differences in conversion rates across stages"
   ]
  },
  {
   "cell_type": "code",
   "execution_count": 226,
   "id": "67b97125-0783-413a-8b11-2d86fb067a1b",
   "metadata": {},
   "outputs": [
    {
     "data": {
      "application/vnd.plotly.v1+json": {
       "config": {
        "plotlyServerURL": "https://plot.ly"
       },
       "data": [
        {
         "alignmentgroup": "True",
         "hovertemplate": "Stage=%{x}<br>Average Conversion Rate=%{y}<br>text=%{text}<extra></extra>",
         "legendgroup": "",
         "marker": {
          "color": "#636efa",
          "pattern": {
           "shape": ""
          }
         },
         "name": "",
         "offsetgroup": "",
         "orientation": "v",
         "showlegend": false,
         "text": [
          "216.55%",
          "46.12%",
          "124.59%"
         ],
         "textposition": "outside",
         "type": "bar",
         "x": [
          "Backlog Rate",
          "Playing Rate",
          "Comment Rate"
         ],
         "xaxis": "x",
         "y": [
          2.165468034314768,
          0.4611900121270478,
          1.2459085928004348
         ],
         "yaxis": "y"
        }
       ],
       "layout": {
        "autosize": true,
        "barmode": "relative",
        "legend": {
         "tracegroupgap": 0
        },
        "margin": {
         "b": 60,
         "t": 100
        },
        "template": {
         "data": {
          "bar": [
           {
            "error_x": {
             "color": "#2a3f5f"
            },
            "error_y": {
             "color": "#2a3f5f"
            },
            "marker": {
             "line": {
              "color": "#E5ECF6",
              "width": 0.5
             },
             "pattern": {
              "fillmode": "overlay",
              "size": 10,
              "solidity": 0.2
             }
            },
            "type": "bar"
           }
          ],
          "barpolar": [
           {
            "marker": {
             "line": {
              "color": "#E5ECF6",
              "width": 0.5
             },
             "pattern": {
              "fillmode": "overlay",
              "size": 10,
              "solidity": 0.2
             }
            },
            "type": "barpolar"
           }
          ],
          "carpet": [
           {
            "aaxis": {
             "endlinecolor": "#2a3f5f",
             "gridcolor": "white",
             "linecolor": "white",
             "minorgridcolor": "white",
             "startlinecolor": "#2a3f5f"
            },
            "baxis": {
             "endlinecolor": "#2a3f5f",
             "gridcolor": "white",
             "linecolor": "white",
             "minorgridcolor": "white",
             "startlinecolor": "#2a3f5f"
            },
            "type": "carpet"
           }
          ],
          "choropleth": [
           {
            "colorbar": {
             "outlinewidth": 0,
             "ticks": ""
            },
            "type": "choropleth"
           }
          ],
          "contour": [
           {
            "colorbar": {
             "outlinewidth": 0,
             "ticks": ""
            },
            "colorscale": [
             [
              0,
              "#0d0887"
             ],
             [
              0.1111111111111111,
              "#46039f"
             ],
             [
              0.2222222222222222,
              "#7201a8"
             ],
             [
              0.3333333333333333,
              "#9c179e"
             ],
             [
              0.4444444444444444,
              "#bd3786"
             ],
             [
              0.5555555555555556,
              "#d8576b"
             ],
             [
              0.6666666666666666,
              "#ed7953"
             ],
             [
              0.7777777777777778,
              "#fb9f3a"
             ],
             [
              0.8888888888888888,
              "#fdca26"
             ],
             [
              1,
              "#f0f921"
             ]
            ],
            "type": "contour"
           }
          ],
          "contourcarpet": [
           {
            "colorbar": {
             "outlinewidth": 0,
             "ticks": ""
            },
            "type": "contourcarpet"
           }
          ],
          "heatmap": [
           {
            "colorbar": {
             "outlinewidth": 0,
             "ticks": ""
            },
            "colorscale": [
             [
              0,
              "#0d0887"
             ],
             [
              0.1111111111111111,
              "#46039f"
             ],
             [
              0.2222222222222222,
              "#7201a8"
             ],
             [
              0.3333333333333333,
              "#9c179e"
             ],
             [
              0.4444444444444444,
              "#bd3786"
             ],
             [
              0.5555555555555556,
              "#d8576b"
             ],
             [
              0.6666666666666666,
              "#ed7953"
             ],
             [
              0.7777777777777778,
              "#fb9f3a"
             ],
             [
              0.8888888888888888,
              "#fdca26"
             ],
             [
              1,
              "#f0f921"
             ]
            ],
            "type": "heatmap"
           }
          ],
          "heatmapgl": [
           {
            "colorbar": {
             "outlinewidth": 0,
             "ticks": ""
            },
            "colorscale": [
             [
              0,
              "#0d0887"
             ],
             [
              0.1111111111111111,
              "#46039f"
             ],
             [
              0.2222222222222222,
              "#7201a8"
             ],
             [
              0.3333333333333333,
              "#9c179e"
             ],
             [
              0.4444444444444444,
              "#bd3786"
             ],
             [
              0.5555555555555556,
              "#d8576b"
             ],
             [
              0.6666666666666666,
              "#ed7953"
             ],
             [
              0.7777777777777778,
              "#fb9f3a"
             ],
             [
              0.8888888888888888,
              "#fdca26"
             ],
             [
              1,
              "#f0f921"
             ]
            ],
            "type": "heatmapgl"
           }
          ],
          "histogram": [
           {
            "marker": {
             "pattern": {
              "fillmode": "overlay",
              "size": 10,
              "solidity": 0.2
             }
            },
            "type": "histogram"
           }
          ],
          "histogram2d": [
           {
            "colorbar": {
             "outlinewidth": 0,
             "ticks": ""
            },
            "colorscale": [
             [
              0,
              "#0d0887"
             ],
             [
              0.1111111111111111,
              "#46039f"
             ],
             [
              0.2222222222222222,
              "#7201a8"
             ],
             [
              0.3333333333333333,
              "#9c179e"
             ],
             [
              0.4444444444444444,
              "#bd3786"
             ],
             [
              0.5555555555555556,
              "#d8576b"
             ],
             [
              0.6666666666666666,
              "#ed7953"
             ],
             [
              0.7777777777777778,
              "#fb9f3a"
             ],
             [
              0.8888888888888888,
              "#fdca26"
             ],
             [
              1,
              "#f0f921"
             ]
            ],
            "type": "histogram2d"
           }
          ],
          "histogram2dcontour": [
           {
            "colorbar": {
             "outlinewidth": 0,
             "ticks": ""
            },
            "colorscale": [
             [
              0,
              "#0d0887"
             ],
             [
              0.1111111111111111,
              "#46039f"
             ],
             [
              0.2222222222222222,
              "#7201a8"
             ],
             [
              0.3333333333333333,
              "#9c179e"
             ],
             [
              0.4444444444444444,
              "#bd3786"
             ],
             [
              0.5555555555555556,
              "#d8576b"
             ],
             [
              0.6666666666666666,
              "#ed7953"
             ],
             [
              0.7777777777777778,
              "#fb9f3a"
             ],
             [
              0.8888888888888888,
              "#fdca26"
             ],
             [
              1,
              "#f0f921"
             ]
            ],
            "type": "histogram2dcontour"
           }
          ],
          "mesh3d": [
           {
            "colorbar": {
             "outlinewidth": 0,
             "ticks": ""
            },
            "type": "mesh3d"
           }
          ],
          "parcoords": [
           {
            "line": {
             "colorbar": {
              "outlinewidth": 0,
              "ticks": ""
             }
            },
            "type": "parcoords"
           }
          ],
          "pie": [
           {
            "automargin": true,
            "type": "pie"
           }
          ],
          "scatter": [
           {
            "fillpattern": {
             "fillmode": "overlay",
             "size": 10,
             "solidity": 0.2
            },
            "type": "scatter"
           }
          ],
          "scatter3d": [
           {
            "line": {
             "colorbar": {
              "outlinewidth": 0,
              "ticks": ""
             }
            },
            "marker": {
             "colorbar": {
              "outlinewidth": 0,
              "ticks": ""
             }
            },
            "type": "scatter3d"
           }
          ],
          "scattercarpet": [
           {
            "marker": {
             "colorbar": {
              "outlinewidth": 0,
              "ticks": ""
             }
            },
            "type": "scattercarpet"
           }
          ],
          "scattergeo": [
           {
            "marker": {
             "colorbar": {
              "outlinewidth": 0,
              "ticks": ""
             }
            },
            "type": "scattergeo"
           }
          ],
          "scattergl": [
           {
            "marker": {
             "colorbar": {
              "outlinewidth": 0,
              "ticks": ""
             }
            },
            "type": "scattergl"
           }
          ],
          "scattermapbox": [
           {
            "marker": {
             "colorbar": {
              "outlinewidth": 0,
              "ticks": ""
             }
            },
            "type": "scattermapbox"
           }
          ],
          "scatterpolar": [
           {
            "marker": {
             "colorbar": {
              "outlinewidth": 0,
              "ticks": ""
             }
            },
            "type": "scatterpolar"
           }
          ],
          "scatterpolargl": [
           {
            "marker": {
             "colorbar": {
              "outlinewidth": 0,
              "ticks": ""
             }
            },
            "type": "scatterpolargl"
           }
          ],
          "scatterternary": [
           {
            "marker": {
             "colorbar": {
              "outlinewidth": 0,
              "ticks": ""
             }
            },
            "type": "scatterternary"
           }
          ],
          "surface": [
           {
            "colorbar": {
             "outlinewidth": 0,
             "ticks": ""
            },
            "colorscale": [
             [
              0,
              "#0d0887"
             ],
             [
              0.1111111111111111,
              "#46039f"
             ],
             [
              0.2222222222222222,
              "#7201a8"
             ],
             [
              0.3333333333333333,
              "#9c179e"
             ],
             [
              0.4444444444444444,
              "#bd3786"
             ],
             [
              0.5555555555555556,
              "#d8576b"
             ],
             [
              0.6666666666666666,
              "#ed7953"
             ],
             [
              0.7777777777777778,
              "#fb9f3a"
             ],
             [
              0.8888888888888888,
              "#fdca26"
             ],
             [
              1,
              "#f0f921"
             ]
            ],
            "type": "surface"
           }
          ],
          "table": [
           {
            "cells": {
             "fill": {
              "color": "#EBF0F8"
             },
             "line": {
              "color": "white"
             }
            },
            "header": {
             "fill": {
              "color": "#C8D4E3"
             },
             "line": {
              "color": "white"
             }
            },
            "type": "table"
           }
          ]
         },
         "layout": {
          "annotationdefaults": {
           "arrowcolor": "#2a3f5f",
           "arrowhead": 0,
           "arrowwidth": 1
          },
          "autotypenumbers": "strict",
          "coloraxis": {
           "colorbar": {
            "outlinewidth": 0,
            "ticks": ""
           }
          },
          "colorscale": {
           "diverging": [
            [
             0,
             "#8e0152"
            ],
            [
             0.1,
             "#c51b7d"
            ],
            [
             0.2,
             "#de77ae"
            ],
            [
             0.3,
             "#f1b6da"
            ],
            [
             0.4,
             "#fde0ef"
            ],
            [
             0.5,
             "#f7f7f7"
            ],
            [
             0.6,
             "#e6f5d0"
            ],
            [
             0.7,
             "#b8e186"
            ],
            [
             0.8,
             "#7fbc41"
            ],
            [
             0.9,
             "#4d9221"
            ],
            [
             1,
             "#276419"
            ]
           ],
           "sequential": [
            [
             0,
             "#0d0887"
            ],
            [
             0.1111111111111111,
             "#46039f"
            ],
            [
             0.2222222222222222,
             "#7201a8"
            ],
            [
             0.3333333333333333,
             "#9c179e"
            ],
            [
             0.4444444444444444,
             "#bd3786"
            ],
            [
             0.5555555555555556,
             "#d8576b"
            ],
            [
             0.6666666666666666,
             "#ed7953"
            ],
            [
             0.7777777777777778,
             "#fb9f3a"
            ],
            [
             0.8888888888888888,
             "#fdca26"
            ],
            [
             1,
             "#f0f921"
            ]
           ],
           "sequentialminus": [
            [
             0,
             "#0d0887"
            ],
            [
             0.1111111111111111,
             "#46039f"
            ],
            [
             0.2222222222222222,
             "#7201a8"
            ],
            [
             0.3333333333333333,
             "#9c179e"
            ],
            [
             0.4444444444444444,
             "#bd3786"
            ],
            [
             0.5555555555555556,
             "#d8576b"
            ],
            [
             0.6666666666666666,
             "#ed7953"
            ],
            [
             0.7777777777777778,
             "#fb9f3a"
            ],
            [
             0.8888888888888888,
             "#fdca26"
            ],
            [
             1,
             "#f0f921"
            ]
           ]
          },
          "colorway": [
           "#636efa",
           "#EF553B",
           "#00cc96",
           "#ab63fa",
           "#FFA15A",
           "#19d3f3",
           "#FF6692",
           "#B6E880",
           "#FF97FF",
           "#FECB52"
          ],
          "font": {
           "color": "#2a3f5f"
          },
          "geo": {
           "bgcolor": "white",
           "lakecolor": "white",
           "landcolor": "#E5ECF6",
           "showlakes": true,
           "showland": true,
           "subunitcolor": "white"
          },
          "hoverlabel": {
           "align": "left"
          },
          "hovermode": "closest",
          "mapbox": {
           "style": "light"
          },
          "paper_bgcolor": "white",
          "plot_bgcolor": "#E5ECF6",
          "polar": {
           "angularaxis": {
            "gridcolor": "white",
            "linecolor": "white",
            "ticks": ""
           },
           "bgcolor": "#E5ECF6",
           "radialaxis": {
            "gridcolor": "white",
            "linecolor": "white",
            "ticks": ""
           }
          },
          "scene": {
           "xaxis": {
            "backgroundcolor": "#E5ECF6",
            "gridcolor": "white",
            "gridwidth": 2,
            "linecolor": "white",
            "showbackground": true,
            "ticks": "",
            "zerolinecolor": "white"
           },
           "yaxis": {
            "backgroundcolor": "#E5ECF6",
            "gridcolor": "white",
            "gridwidth": 2,
            "linecolor": "white",
            "showbackground": true,
            "ticks": "",
            "zerolinecolor": "white"
           },
           "zaxis": {
            "backgroundcolor": "#E5ECF6",
            "gridcolor": "white",
            "gridwidth": 2,
            "linecolor": "white",
            "showbackground": true,
            "ticks": "",
            "zerolinecolor": "white"
           }
          },
          "shapedefaults": {
           "line": {
            "color": "#2a3f5f"
           }
          },
          "ternary": {
           "aaxis": {
            "gridcolor": "white",
            "linecolor": "white",
            "ticks": ""
           },
           "baxis": {
            "gridcolor": "white",
            "linecolor": "white",
            "ticks": ""
           },
           "bgcolor": "#E5ECF6",
           "caxis": {
            "gridcolor": "white",
            "linecolor": "white",
            "ticks": ""
           }
          },
          "title": {
           "x": 0.05
          },
          "xaxis": {
           "automargin": true,
           "gridcolor": "white",
           "linecolor": "white",
           "ticks": "",
           "title": {
            "standoff": 15
           },
           "zerolinecolor": "white",
           "zerolinewidth": 2
          },
          "yaxis": {
           "automargin": true,
           "gridcolor": "white",
           "linecolor": "white",
           "ticks": "",
           "title": {
            "standoff": 15
           },
           "zerolinecolor": "white",
           "zerolinewidth": 2
          }
         }
        },
        "title": {
         "text": "Independent Conversion Rates (relative to Wishlist)"
        },
        "xaxis": {
         "anchor": "y",
         "autorange": true,
         "domain": [
          0,
          1
         ],
         "range": [
          -0.5,
          2.5
         ],
         "title": {
          "text": "Stage"
         },
         "type": "category"
        },
        "yaxis": {
         "anchor": "x",
         "domain": [
          0,
          1
         ],
         "range": [
          0,
          2.8151084446091987
         ],
         "title": {
          "text": "Average Conversion Rate"
         },
         "type": "linear"
        }
       }
      },
      "image/png": "[encoded data removed]",
      "text/html": [
       "<div>                            <div id=\"6b414344-80ae-41a7-9a8e-8936c3cbe917\" class=\"plotly-graph-div\" style=\"height:525px; width:100%;\"></div>            <script type=\"text/javascript\">                require([\"plotly\"], function(Plotly) {                    window.PLOTLYENV=window.PLOTLYENV || {};                                    if (document.getElementById(\"6b414344-80ae-41a7-9a8e-8936c3cbe917\")) {                    Plotly.newPlot(                        \"6b414344-80ae-41a7-9a8e-8936c3cbe917\",                        [{\"alignmentgroup\":\"True\",\"hovertemplate\":\"Stage=%{x}\\u003cbr\\u003eAverage Conversion Rate=%{y}\\u003cbr\\u003etext=%{text}\\u003cextra\\u003e\\u003c\\u002fextra\\u003e\",\"legendgroup\":\"\",\"marker\":{\"color\":\"#636efa\",\"pattern\":{\"shape\":\"\"}},\"name\":\"\",\"offsetgroup\":\"\",\"orientation\":\"v\",\"showlegend\":false,\"text\":[\"216.55%\",\"46.12%\",\"124.59%\"],\"textposition\":\"outside\",\"x\":[\"Backlog Rate\",\"Playing Rate\",\"Comment Rate\"],\"xaxis\":\"x\",\"y\":[2.165468034314768,0.4611900121270478,1.2459085928004348],\"yaxis\":\"y\",\"type\":\"bar\"}],                        {\"template\":{\"data\":{\"histogram2dcontour\":[{\"type\":\"histogram2dcontour\",\"colorbar\":{\"outlinewidth\":0,\"ticks\":\"\"},\"colorscale\":[[0.0,\"#0d0887\"],[0.1111111111111111,\"#46039f\"],[0.2222222222222222,\"#7201a8\"],[0.3333333333333333,\"#9c179e\"],[0.4444444444444444,\"#bd3786\"],[0.5555555555555556,\"#d8576b\"],[0.6666666666666666,\"#ed7953\"],[0.7777777777777778,\"#fb9f3a\"],[0.8888888888888888,\"#fdca26\"],[1.0,\"#f0f921\"]]}],\"choropleth\":[{\"type\":\"choropleth\",\"colorbar\":{\"outlinewidth\":0,\"ticks\":\"\"}}],\"histogram2d\":[{\"type\":\"histogram2d\",\"colorbar\":{\"outlinewidth\":0,\"ticks\":\"\"},\"colorscale\":[[0.0,\"#0d0887\"],[0.1111111111111111,\"#46039f\"],[0.2222222222222222,\"#7201a8\"],[0.3333333333333333,\"#9c179e\"],[0.4444444444444444,\"#bd3786\"],[0.5555555555555556,\"#d8576b\"],[0.6666666666666666,\"#ed7953\"],[0.7777777777777778,\"#fb9f3a\"],[0.8888888888888888,\"#fdca26\"],[1.0,\"#f0f921\"]]}],\"heatmap\":[{\"type\":\"heatmap\",\"colorbar\":{\"outlinewidth\":0,\"ticks\":\"\"},\"colorscale\":[[0.0,\"#0d0887\"],[0.1111111111111111,\"#46039f\"],[0.2222222222222222,\"#7201a8\"],[0.3333333333333333,\"#9c179e\"],[0.4444444444444444,\"#bd3786\"],[0.5555555555555556,\"#d8576b\"],[0.6666666666666666,\"#ed7953\"],[0.7777777777777778,\"#fb9f3a\"],[0.8888888888888888,\"#fdca26\"],[1.0,\"#f0f921\"]]}],\"heatmapgl\":[{\"type\":\"heatmapgl\",\"colorbar\":{\"outlinewidth\":0,\"ticks\":\"\"},\"colorscale\":[[0.0,\"#0d0887\"],[0.1111111111111111,\"#46039f\"],[0.2222222222222222,\"#7201a8\"],[0.3333333333333333,\"#9c179e\"],[0.4444444444444444,\"#bd3786\"],[0.5555555555555556,\"#d8576b\"],[0.6666666666666666,\"#ed7953\"],[0.7777777777777778,\"#fb9f3a\"],[0.8888888888888888,\"#fdca26\"],[1.0,\"#f0f921\"]]}],\"contourcarpet\":[{\"type\":\"contourcarpet\",\"colorbar\":{\"outlinewidth\":0,\"ticks\":\"\"}}],\"contour\":[{\"type\":\"contour\",\"colorbar\":{\"outlinewidth\":0,\"ticks\":\"\"},\"colorscale\":[[0.0,\"#0d0887\"],[0.1111111111111111,\"#46039f\"],[0.2222222222222222,\"#7201a8\"],[0.3333333333333333,\"#9c179e\"],[0.4444444444444444,\"#bd3786\"],[0.5555555555555556,\"#d8576b\"],[0.6666666666666666,\"#ed7953\"],[0.7777777777777778,\"#fb9f3a\"],[0.8888888888888888,\"#fdca26\"],[1.0,\"#f0f921\"]]}],\"surface\":[{\"type\":\"surface\",\"colorbar\":{\"outlinewidth\":0,\"ticks\":\"\"},\"colorscale\":[[0.0,\"#0d0887\"],[0.1111111111111111,\"#46039f\"],[0.2222222222222222,\"#7201a8\"],[0.3333333333333333,\"#9c179e\"],[0.4444444444444444,\"#bd3786\"],[0.5555555555555556,\"#d8576b\"],[0.6666666666666666,\"#ed7953\"],[0.7777777777777778,\"#fb9f3a\"],[0.8888888888888888,\"#fdca26\"],[1.0,\"#f0f921\"]]}],\"mesh3d\":[{\"type\":\"mesh3d\",\"colorbar\":{\"outlinewidth\":0,\"ticks\":\"\"}}],\"scatter\":[{\"fillpattern\":{\"fillmode\":\"overlay\",\"size\":10,\"solidity\":0.2},\"type\":\"scatter\"}],\"parcoords\":[{\"type\":\"parcoords\",\"line\":{\"colorbar\":{\"outlinewidth\":0,\"ticks\":\"\"}}}],\"scatterpolargl\":[{\"type\":\"scatterpolargl\",\"marker\":{\"colorbar\":{\"outlinewidth\":0,\"ticks\":\"\"}}}],\"bar\":[{\"error_x\":{\"color\":\"#2a3f5f\"},\"error_y\":{\"color\":\"#2a3f5f\"},\"marker\":{\"line\":{\"color\":\"#E5ECF6\",\"width\":0.5},\"pattern\":{\"fillmode\":\"overlay\",\"size\":10,\"solidity\":0.2}},\"type\":\"bar\"}],\"scattergeo\":[{\"type\":\"scattergeo\",\"marker\":{\"colorbar\":{\"outlinewidth\":0,\"ticks\":\"\"}}}],\"scatterpolar\":[{\"type\":\"scatterpolar\",\"marker\":{\"colorbar\":{\"outlinewidth\":0,\"ticks\":\"\"}}}],\"histogram\":[{\"marker\":{\"pattern\":{\"fillmode\":\"overlay\",\"size\":10,\"solidity\":0.2}},\"type\":\"histogram\"}],\"scattergl\":[{\"type\":\"scattergl\",\"marker\":{\"colorbar\":{\"outlinewidth\":0,\"ticks\":\"\"}}}],\"scatter3d\":[{\"type\":\"scatter3d\",\"line\":{\"colorbar\":{\"outlinewidth\":0,\"ticks\":\"\"}},\"marker\":{\"colorbar\":{\"outlinewidth\":0,\"ticks\":\"\"}}}],\"scattermapbox\":[{\"type\":\"scattermapbox\",\"marker\":{\"colorbar\":{\"outlinewidth\":0,\"ticks\":\"\"}}}],\"scatterternary\":[{\"type\":\"scatterternary\",\"marker\":{\"colorbar\":{\"outlinewidth\":0,\"ticks\":\"\"}}}],\"scattercarpet\":[{\"type\":\"scattercarpet\",\"marker\":{\"colorbar\":{\"outlinewidth\":0,\"ticks\":\"\"}}}],\"carpet\":[{\"aaxis\":{\"endlinecolor\":\"#2a3f5f\",\"gridcolor\":\"white\",\"linecolor\":\"white\",\"minorgridcolor\":\"white\",\"startlinecolor\":\"#2a3f5f\"},\"baxis\":{\"endlinecolor\":\"#2a3f5f\",\"gridcolor\":\"white\",\"linecolor\":\"white\",\"minorgridcolor\":\"white\",\"startlinecolor\":\"#2a3f5f\"},\"type\":\"carpet\"}],\"table\":[{\"cells\":{\"fill\":{\"color\":\"#EBF0F8\"},\"line\":{\"color\":\"white\"}},\"header\":{\"fill\":{\"color\":\"#C8D4E3\"},\"line\":{\"color\":\"white\"}},\"type\":\"table\"}],\"barpolar\":[{\"marker\":{\"line\":{\"color\":\"#E5ECF6\",\"width\":0.5},\"pattern\":{\"fillmode\":\"overlay\",\"size\":10,\"solidity\":0.2}},\"type\":\"barpolar\"}],\"pie\":[{\"automargin\":true,\"type\":\"pie\"}]},\"layout\":{\"autotypenumbers\":\"strict\",\"colorway\":[\"#636efa\",\"#EF553B\",\"#00cc96\",\"#ab63fa\",\"#FFA15A\",\"#19d3f3\",\"#FF6692\",\"#B6E880\",\"#FF97FF\",\"#FECB52\"],\"font\":{\"color\":\"#2a3f5f\"},\"hovermode\":\"closest\",\"hoverlabel\":{\"align\":\"left\"},\"paper_bgcolor\":\"white\",\"plot_bgcolor\":\"#E5ECF6\",\"polar\":{\"bgcolor\":\"#E5ECF6\",\"angularaxis\":{\"gridcolor\":\"white\",\"linecolor\":\"white\",\"ticks\":\"\"},\"radialaxis\":{\"gridcolor\":\"white\",\"linecolor\":\"white\",\"ticks\":\"\"}},\"ternary\":{\"bgcolor\":\"#E5ECF6\",\"aaxis\":{\"gridcolor\":\"white\",\"linecolor\":\"white\",\"ticks\":\"\"},\"baxis\":{\"gridcolor\":\"white\",\"linecolor\":\"white\",\"ticks\":\"\"},\"caxis\":{\"gridcolor\":\"white\",\"linecolor\":\"white\",\"ticks\":\"\"}},\"coloraxis\":{\"colorbar\":{\"outlinewidth\":0,\"ticks\":\"\"}},\"colorscale\":{\"sequential\":[[0.0,\"#0d0887\"],[0.1111111111111111,\"#46039f\"],[0.2222222222222222,\"#7201a8\"],[0.3333333333333333,\"#9c179e\"],[0.4444444444444444,\"#bd3786\"],[0.5555555555555556,\"#d8576b\"],[0.6666666666666666,\"#ed7953\"],[0.7777777777777778,\"#fb9f3a\"],[0.8888888888888888,\"#fdca26\"],[1.0,\"#f0f921\"]],\"sequentialminus\":[[0.0,\"#0d0887\"],[0.1111111111111111,\"#46039f\"],[0.2222222222222222,\"#7201a8\"],[0.3333333333333333,\"#9c179e\"],[0.4444444444444444,\"#bd3786\"],[0.5555555555555556,\"#d8576b\"],[0.6666666666666666,\"#ed7953\"],[0.7777777777777778,\"#fb9f3a\"],[0.8888888888888888,\"#fdca26\"],[1.0,\"#f0f921\"]],\"diverging\":[[0,\"#8e0152\"],[0.1,\"#c51b7d\"],[0.2,\"#de77ae\"],[0.3,\"#f1b6da\"],[0.4,\"#fde0ef\"],[0.5,\"#f7f7f7\"],[0.6,\"#e6f5d0\"],[0.7,\"#b8e186\"],[0.8,\"#7fbc41\"],[0.9,\"#4d9221\"],[1,\"#276419\"]]},\"xaxis\":{\"gridcolor\":\"white\",\"linecolor\":\"white\",\"ticks\":\"\",\"title\":{\"standoff\":15},\"zerolinecolor\":\"white\",\"automargin\":true,\"zerolinewidth\":2},\"yaxis\":{\"gridcolor\":\"white\",\"linecolor\":\"white\",\"ticks\":\"\",\"title\":{\"standoff\":15},\"zerolinecolor\":\"white\",\"automargin\":true,\"zerolinewidth\":2},\"scene\":{\"xaxis\":{\"backgroundcolor\":\"#E5ECF6\",\"gridcolor\":\"white\",\"linecolor\":\"white\",\"showbackground\":true,\"ticks\":\"\",\"zerolinecolor\":\"white\",\"gridwidth\":2},\"yaxis\":{\"backgroundcolor\":\"#E5ECF6\",\"gridcolor\":\"white\",\"linecolor\":\"white\",\"showbackground\":true,\"ticks\":\"\",\"zerolinecolor\":\"white\",\"gridwidth\":2},\"zaxis\":{\"backgroundcolor\":\"#E5ECF6\",\"gridcolor\":\"white\",\"linecolor\":\"white\",\"showbackground\":true,\"ticks\":\"\",\"zerolinecolor\":\"white\",\"gridwidth\":2}},\"shapedefaults\":{\"line\":{\"color\":\"#2a3f5f\"}},\"annotationdefaults\":{\"arrowcolor\":\"#2a3f5f\",\"arrowhead\":0,\"arrowwidth\":1},\"geo\":{\"bgcolor\":\"white\",\"landcolor\":\"#E5ECF6\",\"subunitcolor\":\"white\",\"showland\":true,\"showlakes\":true,\"lakecolor\":\"white\"},\"title\":{\"x\":0.05},\"mapbox\":{\"style\":\"light\"}}},\"xaxis\":{\"anchor\":\"y\",\"domain\":[0.0,1.0],\"title\":{\"text\":\"Stage\"}},\"yaxis\":{\"anchor\":\"x\",\"domain\":[0.0,1.0],\"title\":{\"text\":\"Average Conversion Rate\"},\"range\":[0,2.8151084446091987]},\"legend\":{\"tracegroupgap\":0},\"title\":{\"text\":\"Independent Conversion Rates (relative to Wishlist)\"},\"barmode\":\"relative\",\"margin\":{\"t\":100,\"b\":60}},                        {\"responsive\": true}                    ).then(function(){\n",
       "                            \n",
       "var gd = document.getElementById('6b414344-80ae-41a7-9a8e-8936c3cbe917');\n",
       "var x = new MutationObserver(function (mutations, observer) {{\n",
       "        var display = window.getComputedStyle(gd).display;\n",
       "        if (!display || display === 'none') {{\n",
       "            console.log([gd, 'removed!']);\n",
       "            Plotly.purge(gd);\n",
       "            observer.disconnect();\n",
       "        }}\n",
       "}});\n",
       "\n",
       "// Listen for the removal of the full notebook cells\n",
       "var notebookContainer = gd.closest('#notebook-container');\n",
       "if (notebookContainer) {{\n",
       "    x.observe(notebookContainer, {childList: true});\n",
       "}}\n",
       "\n",
       "// Listen for the clearing of the current output cell\n",
       "var outputEl = gd.closest('.output');\n",
       "if (outputEl) {{\n",
       "    x.observe(outputEl, {childList: true});\n",
       "}}\n",
       "\n",
       "                        })                };                });            </script>        </div>"
      ]
     },
     "metadata": {},
     "output_type": "display_data"
    }
   ],
   "source": [
    "df1['backlog_rate'] = df1['Backlogs'] / df1['Wishlist']\n",
    "df1['playing_rate'] = df1['Playing'] / df1['Wishlist']\n",
    "df1['comment_rate'] = df1['Number of Reviews'] / df1['Wishlist']\n",
    "\n",
    "# remove invalid values\n",
    "df_filtered = df1[(df1['Wishlist'] > 0) & (df1['backlog_rate'] < 10) & (df1['playing_rate'] < 10)]\n",
    "\n",
    "avg_rates = {\n",
    "    'Backlog Rate': df_filtered['backlog_rate'].mean(),\n",
    "    'Playing Rate': df_filtered['playing_rate'].mean(),\n",
    "    'Comment Rate': df_filtered['comment_rate'].mean()\n",
    "}\n",
    "# plot bar chart\n",
    "fig_bar = px.bar(\n",
    "    x=list(avg_rates.keys()), \n",
    "    y=list(avg_rates.values()),\n",
    "    text=[f\"{v:.2%}\" for v in avg_rates.values()],\n",
    "    title=\"Independent Conversion Rates (relative to Wishlist)\",\n",
    "    labels={'x':'Stage', 'y':'Average Conversion Rate'}\n",
    ")\n",
    "fig_bar.update_traces(textposition='outside')\n",
    "fig_bar.update_layout(\n",
    "    yaxis = dict(range=[0,max(avg_rates.values())*1.3]),\n",
    "    margin = dict(t=100,b=60)\n",
    ")\n",
    "fig_bar.show()"
   ]
  },
  {
   "cell_type": "markdown",
   "id": "c8b8061d-3c11-4a3d-80d0-42cce12aacc3",
   "metadata": {},
   "source": [
    "2. differences in conversion rates across genres"
   ]
  },
  {
   "cell_type": "code",
   "execution_count": 228,
   "id": "f8c37300-9511-4146-b726-748ec33213bf",
   "metadata": {},
   "outputs": [
    {
     "name": "stdout",
     "output_type": "stream",
     "text": [
      "[\"['Adventure', 'Brawler', 'Indie', 'RPG']\", \"['Adventure', 'Indie', 'RPG', 'Turn Based Strategy']\", \"['Adventure', 'Indie', 'Platform']\", \"['Adventure', 'Indie', 'RPG', 'Turn Based Strategy']\", \"['Indie', 'Strategy']\", \"['Adventure', 'Indie']\", \"['Adventure', 'Indie', 'Platform']\", \"['Adventure', 'Indie', 'RPG']\", \"['Arcade', 'Indie', 'Platform', 'Shooter']\", \"['Adventure', 'Indie']\"]\n",
      "0                [Adventure, Brawler, Indie, RPG]\n",
      "1    [Adventure, Indie, RPG, Turn Based Strategy]\n",
      "2                    [Adventure, Indie, Platform]\n",
      "3    [Adventure, Indie, RPG, Turn Based Strategy]\n",
      "4                               [Indie, Strategy]\n",
      "Name: Genres, dtype: object\n",
      "           Title               Genres\n",
      "0          Hades            Adventure\n",
      "0          Hades              Brawler\n",
      "0          Hades                  RPG\n",
      "1      Undertale            Adventure\n",
      "1      Undertale                  RPG\n",
      "1      Undertale  Turn Based Strategy\n",
      "2  Hollow Knight            Adventure\n",
      "2  Hollow Knight             Platform\n",
      "3          Omori            Adventure\n",
      "3          Omori                  RPG\n"
     ]
    }
   ],
   "source": [
    "df_raw = pd.read_csv(\"games_cleaned.csv\")\n",
    "print(df_raw['Genres'].head(10).to_list())\n",
    "#analyse 'Genres'\n",
    "df_raw['Genres'] = df_raw['Genres'].apply(lambda x: ast.literal_eval(x) if isinstance(x, str) else [])\n",
    "print(df_raw['Genres'].head())\n",
    "#explode\n",
    "df_exploded = df_raw.explode('Genres')\n",
    "#remove empty lines\n",
    "df_exploded = df_exploded.dropna(subset=['Genres'])\n",
    "df_exploded = df_exploded[df_exploded['Genres']!='']\n",
    "df_exploded = df_exploded[df_exploded['Genres'] != 'Indie']\n",
    "\n",
    "print(df_exploded[['Title','Genres']].head(10))"
   ]
  },
  {
   "cell_type": "code",
   "execution_count": 229,
   "id": "def94215-55f8-48a2-92c0-e7c57871f342",
   "metadata": {},
   "outputs": [
    {
     "name": "stdout",
     "output_type": "stream",
     "text": [
      "sample size of each genre：\n",
      "Genres\n",
      "Adventure              200\n",
      "RPG                     85\n",
      "Platform                68\n",
      "Puzzle                  66\n",
      "Simulator               52\n",
      "Strategy                46\n",
      "Arcade                  32\n",
      "Shooter                 28\n",
      "Point-and-Click         24\n",
      "Turn Based Strategy     22\n",
      "Name: count, dtype: int64\n"
     ]
    }
   ],
   "source": [
    "from scipy.stats import f_oneway\n",
    "df_exploded['comment_conversion_rate'] = df_exploded['Number of Reviews'] / df_exploded['Wishlist']\n",
    "#remove invalid values\n",
    "df_exploded = df_exploded[df_exploded['Wishlist'] > 0]\n",
    "df_exploded = df_exploded[df_exploded['comment_conversion_rate'].between(0, 5)]\n",
    "#count samples across genres\n",
    "genre_counts = df_exploded['Genres'].value_counts()\n",
    "#remove sample counts<5\n",
    "valid_genres = genre_counts[genre_counts >=5].index\n",
    "df_filtered = df_exploded[df_exploded['Genres'].isin(valid_genres)]\n",
    "print(\"sample size of each genre：\")\n",
    "print(genre_counts.head(10))"
   ]
  },
  {
   "cell_type": "code",
   "execution_count": 230,
   "id": "a2217336-7f2a-4dca-8fa8-68485306703f",
   "metadata": {},
   "outputs": [
    {
     "data": {
      "application/vnd.plotly.v1+json": {
       "config": {
        "plotlyServerURL": "https://plot.ly"
       },
       "data": [
        {
         "alignmentgroup": "True",
         "boxpoints": "all",
         "hovertemplate": "Genre=%{x}<br>Comment-to-Wishlist Rate=%{y}<extra></extra>",
         "legendgroup": "",
         "marker": {
          "color": "#636efa"
         },
         "name": "",
         "notched": false,
         "offsetgroup": "",
         "orientation": "v",
         "showlegend": false,
         "type": "box",
         "x": [
          "Adventure",
          "Brawler",
          "RPG",
          "Adventure",
          "RPG",
          "Turn Based Strategy",
          "Adventure",
          "Platform",
          "Adventure",
          "RPG",
          "Turn Based Strategy",
          "Adventure",
          "Adventure",
          "Platform",
          "Adventure",
          "RPG",
          "Arcade",
          "Platform",
          "Shooter",
          "Adventure",
          "Adventure",
          "Puzzle",
          "Simulator",
          "RPG",
          "Simulator",
          "Strategy",
          "Platform",
          "Shooter",
          "Visual Novel",
          "Adventure",
          "Card & Board Game",
          "Puzzle",
          "Strategy",
          "Adventure",
          "Puzzle",
          "RPG",
          "Adventure",
          "RPG",
          "Turn Based Strategy",
          "Adventure",
          "Platform",
          "RPG",
          "Strategy",
          "Arcade",
          "Shooter",
          "Platform",
          "Adventure",
          "Brawler",
          "RPG",
          "Simulator",
          "Strategy",
          "Adventure",
          "Visual Novel",
          "Adventure",
          "Arcade",
          "Platform",
          "Strategy",
          "Arcade",
          "Brawler",
          "Brawler",
          "Point-and-Click",
          "Puzzle",
          "Simulator",
          "Adventure",
          "RPG",
          "Turn Based Strategy",
          "Adventure",
          "Puzzle",
          "Adventure",
          "Platform",
          "Puzzle",
          "Adventure",
          "Simulator",
          "Visual Novel",
          "Adventure",
          "Platform",
          "Fighting",
          "Puzzle",
          "Shooter",
          "Adventure",
          "Adventure",
          "Adventure",
          "RPG",
          "Simulator",
          "Adventure",
          "Arcade",
          "Shooter",
          "Adventure",
          "Visual Novel",
          "Adventure",
          "Platform",
          "Adventure",
          "Adventure",
          "Brawler",
          "Platform",
          "RPG",
          "Point-and-Click",
          "Simulator",
          "Adventure",
          "Platform",
          "Adventure",
          "Puzzle",
          "Adventure",
          "Adventure",
          "Point-and-Click",
          "Simulator",
          "Strategy",
          "Adventure",
          "Adventure",
          "Platform",
          "Puzzle",
          "RPG",
          "Adventure",
          "Puzzle",
          "Shooter",
          "Adventure",
          "Point-and-Click",
          "Puzzle",
          "RPG",
          "Puzzle",
          "Strategy",
          "Adventure",
          "Point-and-Click",
          "RPG",
          "Simulator",
          "Visual Novel",
          "Adventure",
          "Platform",
          "Adventure",
          "Simulator",
          "Music",
          "Adventure",
          "Puzzle",
          "Adventure",
          "Platform",
          "Simulator",
          "Adventure",
          "Arcade",
          "Music",
          "Adventure",
          "Brawler",
          "RPG",
          "Adventure",
          "RPG",
          "Turn Based Strategy",
          "Adventure",
          "Platform",
          "Adventure",
          "RPG",
          "Turn Based Strategy",
          "Adventure",
          "Adventure",
          "Platform",
          "Adventure",
          "RPG",
          "Arcade",
          "Platform",
          "Shooter",
          "Adventure",
          "Adventure",
          "Puzzle",
          "Simulator",
          "RPG",
          "Simulator",
          "Strategy",
          "Platform",
          "Shooter",
          "Visual Novel",
          "Adventure",
          "Card & Board Game",
          "Puzzle",
          "Strategy",
          "Adventure",
          "Puzzle",
          "RPG",
          "Arcade",
          "RPG",
          "Adventure",
          "Arcade",
          "Platform",
          "Strategy",
          "Arcade",
          "Brawler",
          "Brawler",
          "Point-and-Click",
          "Puzzle",
          "Simulator",
          "Adventure",
          "RPG",
          "Turn Based Strategy",
          "Adventure",
          "Puzzle",
          "Adventure",
          "Adventure",
          "Adventure",
          "RPG",
          "Simulator",
          "Adventure",
          "Arcade",
          "Shooter",
          "Adventure",
          "Visual Novel",
          "Adventure",
          "Platform",
          "Adventure",
          "Adventure",
          "Brawler",
          "Platform",
          "RPG",
          "Point-and-Click",
          "Simulator",
          "Adventure",
          "Platform",
          "Adventure",
          "Puzzle",
          "Adventure",
          "Adventure",
          "Point-and-Click",
          "Simulator",
          "Strategy",
          "Adventure",
          "Adventure",
          "Arcade",
          "RPG",
          "Shooter",
          "Adventure",
          "Brawler",
          "RPG",
          "Adventure",
          "Platform",
          "RPG",
          "Adventure",
          "Point-and-Click",
          "Puzzle",
          "Adventure",
          "RPG",
          "Strategy",
          "Turn Based Strategy",
          "Adventure",
          "Adventure",
          "Platform",
          "Puzzle",
          "RPG",
          "Adventure",
          "Puzzle",
          "Shooter",
          "Adventure",
          "Point-and-Click",
          "Puzzle",
          "RPG",
          "Puzzle",
          "Strategy",
          "Adventure",
          "Point-and-Click",
          "RPG",
          "Simulator",
          "Visual Novel",
          "Adventure",
          "Platform",
          "Adventure",
          "Shooter",
          "Adventure",
          "Shooter",
          "Adventure",
          "Platform",
          "Adventure",
          "Puzzle",
          "RPG",
          "Adventure",
          "Puzzle",
          "Simulator",
          "Strategy",
          "Card & Board Game",
          "Puzzle",
          "RPG",
          "Simulator",
          "Strategy",
          "Turn Based Strategy",
          "Adventure",
          "Point-and-Click",
          "Simulator",
          "Strategy",
          "Adventure",
          "Platform",
          "RPG",
          "Adventure",
          "Puzzle",
          "Adventure",
          "Music",
          "Puzzle",
          "RPG",
          "Adventure",
          "Music",
          "RPG",
          "Adventure",
          "Simulator",
          "Strategy",
          "RPG",
          "Simulator",
          "Strategy",
          "Turn Based Strategy",
          "Adventure",
          "RPG",
          "Visual Novel",
          "Adventure",
          "Point-and-Click",
          "Puzzle",
          "Adventure",
          "Platform",
          "Adventure",
          "Adventure",
          "Platform",
          "Puzzle",
          "Strategy",
          "Adventure",
          "Point-and-Click",
          "Simulator",
          "Arcade",
          "Simulator",
          "Strategy",
          "Music",
          "Adventure",
          "RPG",
          "Adventure",
          "Visual Novel",
          "RPG",
          "Adventure",
          "Puzzle",
          "Arcade",
          "Music",
          "Puzzle",
          "Adventure",
          "Brawler",
          "RPG",
          "Simulator",
          "Adventure",
          "Point-and-Click",
          "Simulator",
          "Strategy",
          "RPG",
          "Simulator",
          "Strategy",
          "Adventure",
          "Platform",
          "Fighting",
          "Adventure",
          "Brawler",
          "RPG",
          "Adventure",
          "RPG",
          "Turn Based Strategy",
          "Adventure",
          "Platform",
          "Adventure",
          "RPG",
          "Turn Based Strategy",
          "Adventure",
          "Adventure",
          "Platform",
          "Adventure",
          "RPG",
          "Arcade",
          "Platform",
          "Shooter",
          "Adventure",
          "Adventure",
          "Puzzle",
          "Simulator",
          "RPG",
          "Simulator",
          "Strategy",
          "Platform",
          "Shooter",
          "Visual Novel",
          "Adventure",
          "Card & Board Game",
          "Puzzle",
          "Strategy",
          "Adventure",
          "Puzzle",
          "RPG",
          "Arcade",
          "RPG",
          "Platform",
          "Adventure",
          "RPG",
          "Turn Based Strategy",
          "Adventure",
          "Visual Novel",
          "Adventure",
          "Arcade",
          "Platform",
          "Strategy",
          "Arcade",
          "Brawler",
          "Brawler",
          "Point-and-Click",
          "Puzzle",
          "Simulator",
          "Adventure",
          "RPG",
          "Turn Based Strategy",
          "Adventure",
          "Puzzle",
          "Adventure",
          "Brawler",
          "RPG",
          "Adventure",
          "Platform",
          "Adventure",
          "Puzzle",
          "Adventure",
          "Platform",
          "Adventure",
          "Puzzle",
          "Adventure",
          "Platform",
          "Puzzle",
          "Adventure",
          "Point-and-Click",
          "Puzzle",
          "Adventure",
          "Visual Novel",
          "Adventure",
          "Platform",
          "Adventure",
          "Platform",
          "Adventure",
          "Visual Novel",
          "Adventure",
          "RPG",
          "Adventure",
          "RPG",
          "Strategy",
          "Turn Based Strategy",
          "Adventure",
          "Puzzle",
          "Strategy",
          "Adventure",
          "Puzzle",
          "Simulator",
          "Adventure",
          "Adventure",
          "Puzzle",
          "Adventure",
          "Adventure",
          "Arcade",
          "RPG",
          "Shooter",
          "Music",
          "Adventure",
          "RPG",
          "Adventure",
          "Puzzle",
          "Simulator",
          "Adventure",
          "Arcade",
          "Platform",
          "Puzzle",
          "RPG",
          "Adventure",
          "Platform",
          "Shooter",
          "Adventure",
          "Arcade",
          "Platform",
          "Adventure",
          "RPG",
          "Adventure",
          "Platform",
          "RPG",
          "Adventure",
          "RPG",
          "Strategy",
          "Turn Based Strategy",
          "Simulator",
          "Adventure",
          "Platform",
          "Shooter",
          "Adventure",
          "Brawler",
          "Adventure",
          "Puzzle",
          "Adventure",
          "Puzzle",
          "Adventure",
          "Puzzle",
          "Simulator",
          "Adventure",
          "Puzzle",
          "RPG",
          "Adventure",
          "Shooter",
          "Adventure",
          "Platform",
          "Puzzle",
          "Arcade",
          "Brawler",
          "Fighting",
          "Adventure",
          "Arcade",
          "Music",
          "Platform",
          "Shooter",
          "Adventure",
          "Platform",
          "Adventure",
          "Arcade",
          "Simulator",
          "Strategy",
          "Adventure",
          "Adventure",
          "Brawler",
          "RPG",
          "RPG",
          "Simulator",
          "Strategy",
          "Adventure",
          "Platform",
          "Puzzle",
          "Adventure",
          "Adventure",
          "Music",
          "Platform",
          "Adventure",
          "Puzzle",
          "RPG",
          "Adventure",
          "RPG",
          "RPG",
          "Simulator",
          "Adventure",
          "Platform",
          "Adventure",
          "Platform",
          "RPG",
          "Adventure",
          "Shooter",
          "Adventure",
          "RPG",
          "Arcade",
          "Shooter",
          "Adventure",
          "Point-and-Click",
          "RPG",
          "Turn Based Strategy",
          "Adventure",
          "Arcade",
          "Platform",
          "Shooter",
          "RPG",
          "Adventure",
          "RPG",
          "Turn Based Strategy",
          "Adventure",
          "Brawler",
          "Platform",
          "Shooter",
          "Point-and-Click",
          "Puzzle",
          "RPG",
          "Simulator",
          "Arcade",
          "Fighting",
          "Strategy",
          "Adventure",
          "Adventure",
          "Brawler",
          "RPG",
          "Simulator",
          "Adventure",
          "Point-and-Click",
          "Simulator",
          "Strategy",
          "RPG",
          "Simulator",
          "Strategy",
          "Adventure",
          "Platform",
          "Adventure",
          "Platform",
          "Simulator",
          "Strategy",
          "Adventure",
          "Music",
          "Platform",
          "Puzzle",
          "Adventure",
          "RPG",
          "Visual Novel",
          "Arcade",
          "Puzzle",
          "Shooter",
          "Card & Board Game",
          "RPG",
          "Simulator",
          "Strategy",
          "Simulator",
          "Strategy",
          "Shooter",
          "Adventure",
          "RPG",
          "Simulator",
          "Adventure",
          "Arcade",
          "Fighting",
          "Adventure",
          "Point-and-Click",
          "Simulator",
          "Strategy",
          "Adventure",
          "Arcade",
          "RPG",
          "Shooter",
          "Arcade",
          "Music",
          "Puzzle",
          "Strategy",
          "Simulator",
          "Strategy",
          "Adventure",
          "Adventure",
          "Platform",
          "Adventure",
          "Platform",
          "Simulator",
          "Strategy",
          "Card & Board Game",
          "Strategy",
          "Turn Based Strategy",
          "Adventure",
          "Platform",
          "Music",
          "Puzzle",
          "Adventure",
          "Point-and-Click",
          "Puzzle",
          "Adventure",
          "Brawler",
          "Platform",
          "Adventure",
          "Platform",
          "Puzzle",
          "RPG",
          "Simulator",
          "Strategy",
          "Adventure",
          "Platform",
          "RPG",
          "Adventure",
          "RPG",
          "Strategy",
          "Turn Based Strategy",
          "Adventure",
          "Point-and-Click",
          "Puzzle",
          "Point-and-Click",
          "Simulator",
          "Card & Board Game",
          "Puzzle",
          "Simulator",
          "Adventure",
          "Platform",
          "Puzzle",
          "Strategy",
          "Adventure",
          "Shooter",
          "Strategy",
          "Brawler",
          "Fighting",
          "Arcade",
          "Music",
          "Platform",
          "Adventure",
          "Platform",
          "Puzzle",
          "Puzzle",
          "Strategy",
          "Adventure",
          "RPG",
          "Turn Based Strategy",
          "Adventure",
          "RPG",
          "Turn Based Strategy",
          "Adventure",
          "RPG"
         ],
         "x0": " ",
         "xaxis": "x",
         "y": [
          0.8055555555555556,
          0.8055555555555556,
          0.8055555555555556,
          1.9444444444444444,
          1.9444444444444444,
          1.9444444444444444,
          1.3043478260869565,
          1.3043478260869565,
          0.42105263157894735,
          0.42105263157894735,
          0.42105263157894735,
          0.4411764705882353,
          1.4,
          1.4,
          0.4074074074074074,
          0.4074074074074074,
          0.7307692307692307,
          0.7307692307692307,
          0.7307692307692307,
          0.37272727272727274,
          0.5806451612903226,
          0.5806451612903226,
          0.5806451612903226,
          1.5454545454545454,
          1.5454545454545454,
          1.5454545454545454,
          0.3773913043478261,
          0.3773913043478261,
          0.3773913043478261,
          0.43478260869565216,
          0.43478260869565216,
          0.43478260869565216,
          0.43478260869565216,
          0.3426923076923077,
          0.3426923076923077,
          0.3426923076923077,
          0.9787516600265604,
          0.9787516600265604,
          0.9787516600265604,
          2.1922428330522767,
          2.1922428330522767,
          2.1922428330522767,
          2.1922428330522767,
          1.5086206896551724,
          1.5086206896551724,
          0.2792307692307692,
          0.2804761904761905,
          0.2804761904761905,
          0.2804761904761905,
          0.2804761904761905,
          0.2804761904761905,
          1.7021739130434783,
          1.7021739130434783,
          0.7333333333333333,
          0.7333333333333333,
          0.7333333333333333,
          0.7333333333333333,
          1.0615199034981906,
          1.0615199034981906,
          0.2752173913043478,
          0.5776923076923077,
          0.5776923076923077,
          0.5776923076923077,
          0.8106995884773662,
          0.8106995884773662,
          0.8106995884773662,
          1.0769230769230769,
          1.0769230769230769,
          1.1326291079812207,
          1.1326291079812207,
          1.1326291079812207,
          0.6266666666666667,
          0.6266666666666667,
          0.6266666666666667,
          0.5728571428571428,
          0.5728571428571428,
          0.9916864608076009,
          0.9916864608076009,
          0.9916864608076009,
          0.9207683073229291,
          0.7542372881355932,
          0.6119402985074627,
          0.6119402985074627,
          1.975206611570248,
          1.433106575963719,
          1.433106575963719,
          1.433106575963719,
          0.41846153846153844,
          0.41846153846153844,
          0.6341666666666667,
          0.6341666666666667,
          0.7716666666666666,
          0.647,
          0.647,
          0.647,
          0.647,
          0.8173758865248227,
          0.8173758865248227,
          1.2075848303393213,
          1.2075848303393213,
          0.9415730337078652,
          0.9415730337078652,
          0.9987029831387808,
          2.7710843373493974,
          2.7710843373493974,
          2.7710843373493974,
          2.7710843373493974,
          1.3640897755610972,
          0.3936363636363636,
          0.3936363636363636,
          0.3936363636363636,
          0.3936363636363636,
          0.5310796074154853,
          0.5310796074154853,
          0.5310796074154853,
          0.7254054054054054,
          0.7254054054054054,
          0.7254054054054054,
          0.7254054054054054,
          0.45416666666666666,
          0.45416666666666666,
          0.38095238095238093,
          0.38095238095238093,
          0.38095238095238093,
          0.38095238095238093,
          0.38095238095238093,
          1.2727272727272727,
          1.2727272727272727,
          2.696,
          2.696,
          2.077777777777778,
          1.28992628992629,
          1.28992628992629,
          0.5588235294117647,
          0.5588235294117647,
          0.5588235294117647,
          0.9188846641318125,
          0.9188846641318125,
          0.9188846641318125,
          0.8055555555555556,
          0.8055555555555556,
          0.8055555555555556,
          1.9444444444444444,
          1.9444444444444444,
          1.9444444444444444,
          1.3043478260869565,
          1.3043478260869565,
          0.42105263157894735,
          0.42105263157894735,
          0.42105263157894735,
          0.4411764705882353,
          1.4,
          1.4,
          0.4074074074074074,
          0.4074074074074074,
          0.7307692307692307,
          0.7307692307692307,
          0.7307692307692307,
          0.37272727272727274,
          0.5806451612903226,
          0.5806451612903226,
          0.5806451612903226,
          1.5454545454545454,
          1.5454545454545454,
          1.5454545454545454,
          0.3773913043478261,
          0.3773913043478261,
          0.3773913043478261,
          0.43478260869565216,
          0.43478260869565216,
          0.43478260869565216,
          0.43478260869565216,
          0.3426923076923077,
          0.3426923076923077,
          0.3426923076923077,
          2.0440097799511,
          2.0440097799511,
          0.7333333333333333,
          0.7333333333333333,
          0.7333333333333333,
          0.7333333333333333,
          1.0615199034981906,
          1.0615199034981906,
          0.2752173913043478,
          0.5776923076923077,
          0.5776923076923077,
          0.5776923076923077,
          0.8106995884773662,
          0.8106995884773662,
          0.8106995884773662,
          1.0769230769230769,
          1.0769230769230769,
          0.9207683073229291,
          0.7542372881355932,
          0.6119402985074627,
          0.6119402985074627,
          1.975206611570248,
          1.433106575963719,
          1.433106575963719,
          1.433106575963719,
          0.41846153846153844,
          0.41846153846153844,
          0.6341666666666667,
          0.6341666666666667,
          0.7716666666666666,
          0.647,
          0.647,
          0.647,
          0.647,
          0.8173758865248227,
          0.8173758865248227,
          1.2075848303393213,
          1.2075848303393213,
          0.9415730337078652,
          0.9415730337078652,
          0.9987029831387808,
          2.7710843373493974,
          2.7710843373493974,
          2.7710843373493974,
          2.7710843373493974,
          0.9127837514934289,
          0.7735849056603774,
          0.7735849056603774,
          0.7735849056603774,
          0.7735849056603774,
          2.145374449339207,
          2.145374449339207,
          2.145374449339207,
          0.41641337386018235,
          0.41641337386018235,
          0.41641337386018235,
          0.6880570409982175,
          0.6880570409982175,
          0.6880570409982175,
          1.1329479768786128,
          1.1329479768786128,
          1.1329479768786128,
          1.1329479768786128,
          1.3640897755610972,
          0.3936363636363636,
          0.3936363636363636,
          0.3936363636363636,
          0.3936363636363636,
          0.5310796074154853,
          0.5310796074154853,
          0.5310796074154853,
          0.7254054054054054,
          0.7254054054054054,
          0.7254054054054054,
          0.7254054054054054,
          0.45416666666666666,
          0.45416666666666666,
          0.38095238095238093,
          0.38095238095238093,
          0.38095238095238093,
          0.38095238095238093,
          0.38095238095238093,
          1.2727272727272727,
          1.2727272727272727,
          0.7792,
          0.7792,
          0.5284552845528455,
          0.5284552845528455,
          0.7752613240418118,
          0.7752613240418118,
          0.5300101729399797,
          0.5300101729399797,
          0.5300101729399797,
          0.4257602862254025,
          0.4257602862254025,
          0.4257602862254025,
          0.4257602862254025,
          0.9435626102292769,
          0.9435626102292769,
          0.9435626102292769,
          0.9435626102292769,
          0.9435626102292769,
          0.9435626102292769,
          2.26890756302521,
          2.26890756302521,
          2.26890756302521,
          2.26890756302521,
          0.275,
          0.275,
          0.275,
          1.28992628992629,
          1.28992628992629,
          0.5072933549432739,
          0.5072933549432739,
          0.5072933549432739,
          0.5072933549432739,
          0.7123595505617978,
          0.7123595505617978,
          0.7123595505617978,
          1.1641025641025642,
          1.1641025641025642,
          1.1641025641025642,
          0.4171270718232044,
          0.4171270718232044,
          0.4171270718232044,
          0.4171270718232044,
          0.7457627118644068,
          0.7457627118644068,
          0.7457627118644068,
          1.0104712041884816,
          1.0104712041884816,
          1.0104712041884816,
          1.1379310344827587,
          1.1379310344827587,
          0.3003533568904594,
          0.987012987012987,
          0.987012987012987,
          0.987012987012987,
          0.987012987012987,
          0.5629453681710214,
          0.5629453681710214,
          0.40978593272171254,
          3.2695652173913046,
          3.2695652173913046,
          3.2695652173913046,
          0.9585492227979274,
          0.7608695652173914,
          0.7608695652173914,
          0.4032846715328467,
          0.4032846715328467,
          0.9896907216494846,
          1.2105263157894737,
          1.2105263157894737,
          0.4425531914893617,
          0.4425531914893617,
          0.4425531914893617,
          0.9061488673139159,
          0.9061488673139159,
          0.9061488673139159,
          0.9061488673139159,
          1.7927927927927927,
          1.7927927927927927,
          1.7927927927927927,
          1.7927927927927927,
          1.608910891089109,
          1.608910891089109,
          1.608910891089109,
          0.8589420654911839,
          0.8589420654911839,
          1.4577464788732395,
          0.8055555555555556,
          0.8055555555555556,
          0.8055555555555556,
          1.9444444444444444,
          1.9444444444444444,
          1.9444444444444444,
          1.3043478260869565,
          1.3043478260869565,
          0.42105263157894735,
          0.42105263157894735,
          0.42105263157894735,
          0.4411764705882353,
          1.4,
          1.4,
          0.4074074074074074,
          0.4074074074074074,
          0.7307692307692307,
          0.7307692307692307,
          0.7307692307692307,
          0.37272727272727274,
          0.5806451612903226,
          0.5806451612903226,
          0.5806451612903226,
          1.5454545454545454,
          1.5454545454545454,
          1.5454545454545454,
          0.3773913043478261,
          0.3773913043478261,
          0.3773913043478261,
          0.43478260869565216,
          0.43478260869565216,
          0.43478260869565216,
          0.43478260869565216,
          0.3426923076923077,
          0.3426923076923077,
          0.3426923076923077,
          2.0440097799511,
          2.0440097799511,
          3.225092250922509,
          0.9787516600265604,
          0.9787516600265604,
          0.9787516600265604,
          1.7021739130434783,
          1.7021739130434783,
          0.7333333333333333,
          0.7333333333333333,
          0.7333333333333333,
          0.7333333333333333,
          1.0615199034981906,
          1.0615199034981906,
          0.2752173913043478,
          0.5776923076923077,
          0.5776923076923077,
          0.5776923076923077,
          0.8106995884773662,
          0.8106995884773662,
          0.8106995884773662,
          1.0769230769230769,
          1.0769230769230769,
          0.5271428571428571,
          0.5271428571428571,
          0.5271428571428571,
          0.56125,
          0.56125,
          0.37259100642398285,
          0.37259100642398285,
          0.4185068349106204,
          0.4185068349106204,
          0.4166666666666667,
          0.4166666666666667,
          0.6073333333333333,
          0.6073333333333333,
          0.6073333333333333,
          0.6566791510611736,
          0.6566791510611736,
          0.6566791510611736,
          0.726878612716763,
          0.726878612716763,
          0.7333333333333333,
          0.7333333333333333,
          1.1,
          1.1,
          0.5284178187403994,
          0.5284178187403994,
          0.5853846153846154,
          0.5853846153846154,
          0.3193979933110368,
          0.3193979933110368,
          0.3193979933110368,
          0.3193979933110368,
          1.4012096774193548,
          1.4012096774193548,
          2.3010204081632653,
          1.302919708029197,
          1.302919708029197,
          1.302919708029197,
          0.2888235294117647,
          1.0124416796267497,
          1.0124416796267497,
          0.9127837514934289,
          0.7735849056603774,
          0.7735849056603774,
          0.7735849056603774,
          0.7735849056603774,
          2.077777777777778,
          0.6718972895863052,
          0.6718972895863052,
          0.535,
          0.535,
          0.535,
          1.1063829787234043,
          1.1063829787234043,
          1.1063829787234043,
          1.1063829787234043,
          1.1063829787234043,
          0.765,
          0.765,
          0.765,
          0.8732193732193733,
          0.8732193732193733,
          0.8732193732193733,
          0.3946153846153846,
          0.3946153846153846,
          0.6106014271151886,
          0.6106014271151886,
          0.6106014271151886,
          0.9444444444444444,
          0.9444444444444444,
          0.9444444444444444,
          0.9444444444444444,
          1.1094890510948905,
          0.7835497835497836,
          0.7835497835497836,
          0.7835497835497836,
          0.5874439461883408,
          0.5874439461883408,
          0.9314456035767511,
          0.9314456035767511,
          1.529940119760479,
          1.529940119760479,
          1.006872852233677,
          1.006872852233677,
          1.006872852233677,
          0.47368421052631576,
          0.47368421052631576,
          0.47368421052631576,
          1.8469945355191257,
          1.8469945355191257,
          0.8787878787878788,
          0.8787878787878788,
          0.8787878787878788,
          1.1524163568773234,
          1.1524163568773234,
          1.1524163568773234,
          4.690476190476191,
          4.690476190476191,
          4.690476190476191,
          4.690476190476191,
          0.3694029850746269,
          0.43630573248407645,
          0.43630573248407645,
          1.3184855233853006,
          2.25,
          2.25,
          2.25,
          0.6671949286846276,
          0.6649350649350649,
          0.6649350649350649,
          0.6649350649350649,
          0.24615384615384617,
          0.24615384615384617,
          0.24615384615384617,
          1.6687116564417177,
          1.6687116564417177,
          1.6687116564417177,
          0.9152892561983471,
          0.9801699716713881,
          0.9801699716713881,
          0.9801699716713881,
          0.25165562913907286,
          0.25165562913907286,
          0.25165562913907286,
          0.645320197044335,
          0.645320197044335,
          0.6273584905660378,
          0.6273584905660378,
          0.718801996672213,
          0.718801996672213,
          0.8730512249443207,
          0.8730512249443207,
          0.8730512249443207,
          0.30718954248366015,
          0.30718954248366015,
          0.15689981096408318,
          0.15689981096408318,
          0.8904494382022472,
          0.8904494382022472,
          0.2708113804004215,
          0.2708113804004215,
          0.2708113804004215,
          0.2708113804004215,
          1.6575342465753424,
          1.6575342465753424,
          1.6575342465753424,
          1.6575342465753424,
          0.2594594594594595,
          0.6672897196261682,
          0.6672897196261682,
          0.6672897196261682,
          0.45754716981132076,
          0.45754716981132076,
          0.45754716981132076,
          1.4736842105263157,
          0.4117647058823529,
          0.4117647058823529,
          0.4117647058823529,
          0.4117647058823529,
          4.363636363636363,
          4.363636363636363,
          4.363636363636363,
          1.1027667984189724,
          0.9061488673139159,
          0.9061488673139159,
          0.9061488673139159,
          0.9061488673139159,
          1.7927927927927927,
          1.7927927927927927,
          1.7927927927927927,
          1.7927927927927927,
          1.608910891089109,
          1.608910891089109,
          1.608910891089109,
          0.8589420654911839,
          0.8589420654911839,
          0.3706070287539936,
          0.3706070287539936,
          0.40710382513661203,
          0.40710382513661203,
          3.5428571428571427,
          3.5428571428571427,
          3.5428571428571427,
          3.5428571428571427,
          0.8203592814371258,
          0.8203592814371258,
          0.8203592814371258,
          0.8584905660377359,
          0.8584905660377359,
          0.8584905660377359,
          1.6896551724137931,
          1.6896551724137931,
          1.6896551724137931,
          1.6896551724137931,
          1.1333333333333333,
          1.1333333333333333,
          1.2191011235955056,
          0.4629080118694362,
          0.4629080118694362,
          0.4629080118694362,
          1.0154320987654322,
          1.0154320987654322,
          1.0154320987654322,
          0.7935323383084577,
          0.7935323383084577,
          0.5338983050847458,
          0.5338983050847458,
          1.7945205479452055,
          1.7945205479452055,
          1.7945205479452055,
          1.7945205479452055,
          3.7777777777777777,
          3.7777777777777777,
          4.3428571428571425,
          4.3428571428571425,
          1.4193548387096775,
          1.4193548387096775,
          2.46,
          1.0104712041884816,
          1.0104712041884816,
          0.9388888888888889,
          0.9388888888888889,
          0.9388888888888889,
          0.9388888888888889,
          1.2584269662921348,
          1.2584269662921348,
          1.2584269662921348,
          0.6782006920415224,
          0.6782006920415224,
          3.037037037037037,
          3.037037037037037,
          0.9173553719008265,
          0.9173553719008265,
          0.9173553719008265,
          1.4360902255639099,
          1.4360902255639099,
          1.4360902255639099,
          0.6584699453551912,
          0.6584699453551912,
          0.6584699453551912,
          0.35019455252918286,
          0.35019455252918286,
          0.35019455252918286,
          0.6045845272206304,
          0.6045845272206304,
          0.6045845272206304,
          0.7393939393939394,
          0.3137254901960784,
          0.3137254901960784,
          0.3137254901960784,
          1.2949640287769784,
          1.2949640287769784,
          1.2949640287769784,
          1.1411042944785277,
          1.1411042944785277,
          1.3584905660377358,
          1.3584905660377358,
          1.3584905660377358,
          1.3978494623655915,
          1.3978494623655915,
          1.3978494623655915,
          1.3978494623655915,
          1,
          1,
          1,
          3.1739130434782608,
          3.1739130434782608,
          1.0175438596491229,
          1.0175438596491229,
          1.0175438596491229,
          0.776255707762557,
          0.776255707762557,
          0.776255707762557,
          3.7777777777777777,
          3.7777777777777777,
          0.2764227642276423,
          0.2764227642276423,
          0.2764227642276423,
          0.5407725321888412,
          0.5407725321888412,
          0.5407725321888412,
          1.125,
          1.125
         ],
         "y0": " ",
         "yaxis": "y"
        }
       ],
       "layout": {
        "autosize": true,
        "boxmode": "group",
        "legend": {
         "tracegroupgap": 0
        },
        "margin": {
         "b": 100,
         "t": 80
        },
        "template": {
         "data": {
          "bar": [
           {
            "error_x": {
             "color": "#2a3f5f"
            },
            "error_y": {
             "color": "#2a3f5f"
            },
            "marker": {
             "line": {
              "color": "#E5ECF6",
              "width": 0.5
             },
             "pattern": {
              "fillmode": "overlay",
              "size": 10,
              "solidity": 0.2
             }
            },
            "type": "bar"
           }
          ],
          "barpolar": [
           {
            "marker": {
             "line": {
              "color": "#E5ECF6",
              "width": 0.5
             },
             "pattern": {
              "fillmode": "overlay",
              "size": 10,
              "solidity": 0.2
             }
            },
            "type": "barpolar"
           }
          ],
          "carpet": [
           {
            "aaxis": {
             "endlinecolor": "#2a3f5f",
             "gridcolor": "white",
             "linecolor": "white",
             "minorgridcolor": "white",
             "startlinecolor": "#2a3f5f"
            },
            "baxis": {
             "endlinecolor": "#2a3f5f",
             "gridcolor": "white",
             "linecolor": "white",
             "minorgridcolor": "white",
             "startlinecolor": "#2a3f5f"
            },
            "type": "carpet"
           }
          ],
          "choropleth": [
           {
            "colorbar": {
             "outlinewidth": 0,
             "ticks": ""
            },
            "type": "choropleth"
           }
          ],
          "contour": [
           {
            "colorbar": {
             "outlinewidth": 0,
             "ticks": ""
            },
            "colorscale": [
             [
              0,
              "#0d0887"
             ],
             [
              0.1111111111111111,
              "#46039f"
             ],
             [
              0.2222222222222222,
              "#7201a8"
             ],
             [
              0.3333333333333333,
              "#9c179e"
             ],
             [
              0.4444444444444444,
              "#bd3786"
             ],
             [
              0.5555555555555556,
              "#d8576b"
             ],
             [
              0.6666666666666666,
              "#ed7953"
             ],
             [
              0.7777777777777778,
              "#fb9f3a"
             ],
             [
              0.8888888888888888,
              "#fdca26"
             ],
             [
              1,
              "#f0f921"
             ]
            ],
            "type": "contour"
           }
          ],
          "contourcarpet": [
           {
            "colorbar": {
             "outlinewidth": 0,
             "ticks": ""
            },
            "type": "contourcarpet"
           }
          ],
          "heatmap": [
           {
            "colorbar": {
             "outlinewidth": 0,
             "ticks": ""
            },
            "colorscale": [
             [
              0,
              "#0d0887"
             ],
             [
              0.1111111111111111,
              "#46039f"
             ],
             [
              0.2222222222222222,
              "#7201a8"
             ],
             [
              0.3333333333333333,
              "#9c179e"
             ],
             [
              0.4444444444444444,
              "#bd3786"
             ],
             [
              0.5555555555555556,
              "#d8576b"
             ],
             [
              0.6666666666666666,
              "#ed7953"
             ],
             [
              0.7777777777777778,
              "#fb9f3a"
             ],
             [
              0.8888888888888888,
              "#fdca26"
             ],
             [
              1,
              "#f0f921"
             ]
            ],
            "type": "heatmap"
           }
          ],
          "heatmapgl": [
           {
            "colorbar": {
             "outlinewidth": 0,
             "ticks": ""
            },
            "colorscale": [
             [
              0,
              "#0d0887"
             ],
             [
              0.1111111111111111,
              "#46039f"
             ],
             [
              0.2222222222222222,
              "#7201a8"
             ],
             [
              0.3333333333333333,
              "#9c179e"
             ],
             [
              0.4444444444444444,
              "#bd3786"
             ],
             [
              0.5555555555555556,
              "#d8576b"
             ],
             [
              0.6666666666666666,
              "#ed7953"
             ],
             [
              0.7777777777777778,
              "#fb9f3a"
             ],
             [
              0.8888888888888888,
              "#fdca26"
             ],
             [
              1,
              "#f0f921"
             ]
            ],
            "type": "heatmapgl"
           }
          ],
          "histogram": [
           {
            "marker": {
             "pattern": {
              "fillmode": "overlay",
              "size": 10,
              "solidity": 0.2
             }
            },
            "type": "histogram"
           }
          ],
          "histogram2d": [
           {
            "colorbar": {
             "outlinewidth": 0,
             "ticks": ""
            },
            "colorscale": [
             [
              0,
              "#0d0887"
             ],
             [
              0.1111111111111111,
              "#46039f"
             ],
             [
              0.2222222222222222,
              "#7201a8"
             ],
             [
              0.3333333333333333,
              "#9c179e"
             ],
             [
              0.4444444444444444,
              "#bd3786"
             ],
             [
              0.5555555555555556,
              "#d8576b"
             ],
             [
              0.6666666666666666,
              "#ed7953"
             ],
             [
              0.7777777777777778,
              "#fb9f3a"
             ],
             [
              0.8888888888888888,
              "#fdca26"
             ],
             [
              1,
              "#f0f921"
             ]
            ],
            "type": "histogram2d"
           }
          ],
          "histogram2dcontour": [
           {
            "colorbar": {
             "outlinewidth": 0,
             "ticks": ""
            },
            "colorscale": [
             [
              0,
              "#0d0887"
             ],
             [
              0.1111111111111111,
              "#46039f"
             ],
             [
              0.2222222222222222,
              "#7201a8"
             ],
             [
              0.3333333333333333,
              "#9c179e"
             ],
             [
              0.4444444444444444,
              "#bd3786"
             ],
             [
              0.5555555555555556,
              "#d8576b"
             ],
             [
              0.6666666666666666,
              "#ed7953"
             ],
             [
              0.7777777777777778,
              "#fb9f3a"
             ],
             [
              0.8888888888888888,
              "#fdca26"
             ],
             [
              1,
              "#f0f921"
             ]
            ],
            "type": "histogram2dcontour"
           }
          ],
          "mesh3d": [
           {
            "colorbar": {
             "outlinewidth": 0,
             "ticks": ""
            },
            "type": "mesh3d"
           }
          ],
          "parcoords": [
           {
            "line": {
             "colorbar": {
              "outlinewidth": 0,
              "ticks": ""
             }
            },
            "type": "parcoords"
           }
          ],
          "pie": [
           {
            "automargin": true,
            "type": "pie"
           }
          ],
          "scatter": [
           {
            "fillpattern": {
             "fillmode": "overlay",
             "size": 10,
             "solidity": 0.2
            },
            "type": "scatter"
           }
          ],
          "scatter3d": [
           {
            "line": {
             "colorbar": {
              "outlinewidth": 0,
              "ticks": ""
             }
            },
            "marker": {
             "colorbar": {
              "outlinewidth": 0,
              "ticks": ""
             }
            },
            "type": "scatter3d"
           }
          ],
          "scattercarpet": [
           {
            "marker": {
             "colorbar": {
              "outlinewidth": 0,
              "ticks": ""
             }
            },
            "type": "scattercarpet"
           }
          ],
          "scattergeo": [
           {
            "marker": {
             "colorbar": {
              "outlinewidth": 0,
              "ticks": ""
             }
            },
            "type": "scattergeo"
           }
          ],
          "scattergl": [
           {
            "marker": {
             "colorbar": {
              "outlinewidth": 0,
              "ticks": ""
             }
            },
            "type": "scattergl"
           }
          ],
          "scattermapbox": [
           {
            "marker": {
             "colorbar": {
              "outlinewidth": 0,
              "ticks": ""
             }
            },
            "type": "scattermapbox"
           }
          ],
          "scatterpolar": [
           {
            "marker": {
             "colorbar": {
              "outlinewidth": 0,
              "ticks": ""
             }
            },
            "type": "scatterpolar"
           }
          ],
          "scatterpolargl": [
           {
            "marker": {
             "colorbar": {
              "outlinewidth": 0,
              "ticks": ""
             }
            },
            "type": "scatterpolargl"
           }
          ],
          "scatterternary": [
           {
            "marker": {
             "colorbar": {
              "outlinewidth": 0,
              "ticks": ""
             }
            },
            "type": "scatterternary"
           }
          ],
          "surface": [
           {
            "colorbar": {
             "outlinewidth": 0,
             "ticks": ""
            },
            "colorscale": [
             [
              0,
              "#0d0887"
             ],
             [
              0.1111111111111111,
              "#46039f"
             ],
             [
              0.2222222222222222,
              "#7201a8"
             ],
             [
              0.3333333333333333,
              "#9c179e"
             ],
             [
              0.4444444444444444,
              "#bd3786"
             ],
             [
              0.5555555555555556,
              "#d8576b"
             ],
             [
              0.6666666666666666,
              "#ed7953"
             ],
             [
              0.7777777777777778,
              "#fb9f3a"
             ],
             [
              0.8888888888888888,
              "#fdca26"
             ],
             [
              1,
              "#f0f921"
             ]
            ],
            "type": "surface"
           }
          ],
          "table": [
           {
            "cells": {
             "fill": {
              "color": "#EBF0F8"
             },
             "line": {
              "color": "white"
             }
            },
            "header": {
             "fill": {
              "color": "#C8D4E3"
             },
             "line": {
              "color": "white"
             }
            },
            "type": "table"
           }
          ]
         },
         "layout": {
          "annotationdefaults": {
           "arrowcolor": "#2a3f5f",
           "arrowhead": 0,
           "arrowwidth": 1
          },
          "autotypenumbers": "strict",
          "coloraxis": {
           "colorbar": {
            "outlinewidth": 0,
            "ticks": ""
           }
          },
          "colorscale": {
           "diverging": [
            [
             0,
             "#8e0152"
            ],
            [
             0.1,
             "#c51b7d"
            ],
            [
             0.2,
             "#de77ae"
            ],
            [
             0.3,
             "#f1b6da"
            ],
            [
             0.4,
             "#fde0ef"
            ],
            [
             0.5,
             "#f7f7f7"
            ],
            [
             0.6,
             "#e6f5d0"
            ],
            [
             0.7,
             "#b8e186"
            ],
            [
             0.8,
             "#7fbc41"
            ],
            [
             0.9,
             "#4d9221"
            ],
            [
             1,
             "#276419"
            ]
           ],
           "sequential": [
            [
             0,
             "#0d0887"
            ],
            [
             0.1111111111111111,
             "#46039f"
            ],
            [
             0.2222222222222222,
             "#7201a8"
            ],
            [
             0.3333333333333333,
             "#9c179e"
            ],
            [
             0.4444444444444444,
             "#bd3786"
            ],
            [
             0.5555555555555556,
             "#d8576b"
            ],
            [
             0.6666666666666666,
             "#ed7953"
            ],
            [
             0.7777777777777778,
             "#fb9f3a"
            ],
            [
             0.8888888888888888,
             "#fdca26"
            ],
            [
             1,
             "#f0f921"
            ]
           ],
           "sequentialminus": [
            [
             0,
             "#0d0887"
            ],
            [
             0.1111111111111111,
             "#46039f"
            ],
            [
             0.2222222222222222,
             "#7201a8"
            ],
            [
             0.3333333333333333,
             "#9c179e"
            ],
            [
             0.4444444444444444,
             "#bd3786"
            ],
            [
             0.5555555555555556,
             "#d8576b"
            ],
            [
             0.6666666666666666,
             "#ed7953"
            ],
            [
             0.7777777777777778,
             "#fb9f3a"
            ],
            [
             0.8888888888888888,
             "#fdca26"
            ],
            [
             1,
             "#f0f921"
            ]
           ]
          },
          "colorway": [
           "#636efa",
           "#EF553B",
           "#00cc96",
           "#ab63fa",
           "#FFA15A",
           "#19d3f3",
           "#FF6692",
           "#B6E880",
           "#FF97FF",
           "#FECB52"
          ],
          "font": {
           "color": "#2a3f5f"
          },
          "geo": {
           "bgcolor": "white",
           "lakecolor": "white",
           "landcolor": "#E5ECF6",
           "showlakes": true,
           "showland": true,
           "subunitcolor": "white"
          },
          "hoverlabel": {
           "align": "left"
          },
          "hovermode": "closest",
          "mapbox": {
           "style": "light"
          },
          "paper_bgcolor": "white",
          "plot_bgcolor": "#E5ECF6",
          "polar": {
           "angularaxis": {
            "gridcolor": "white",
            "linecolor": "white",
            "ticks": ""
           },
           "bgcolor": "#E5ECF6",
           "radialaxis": {
            "gridcolor": "white",
            "linecolor": "white",
            "ticks": ""
           }
          },
          "scene": {
           "xaxis": {
            "backgroundcolor": "#E5ECF6",
            "gridcolor": "white",
            "gridwidth": 2,
            "linecolor": "white",
            "showbackground": true,
            "ticks": "",
            "zerolinecolor": "white"
           },
           "yaxis": {
            "backgroundcolor": "#E5ECF6",
            "gridcolor": "white",
            "gridwidth": 2,
            "linecolor": "white",
            "showbackground": true,
            "ticks": "",
            "zerolinecolor": "white"
           },
           "zaxis": {
            "backgroundcolor": "#E5ECF6",
            "gridcolor": "white",
            "gridwidth": 2,
            "linecolor": "white",
            "showbackground": true,
            "ticks": "",
            "zerolinecolor": "white"
           }
          },
          "shapedefaults": {
           "line": {
            "color": "#2a3f5f"
           }
          },
          "ternary": {
           "aaxis": {
            "gridcolor": "white",
            "linecolor": "white",
            "ticks": ""
           },
           "baxis": {
            "gridcolor": "white",
            "linecolor": "white",
            "ticks": ""
           },
           "bgcolor": "#E5ECF6",
           "caxis": {
            "gridcolor": "white",
            "linecolor": "white",
            "ticks": ""
           }
          },
          "title": {
           "x": 0.05
          },
          "xaxis": {
           "automargin": true,
           "gridcolor": "white",
           "linecolor": "white",
           "ticks": "",
           "title": {
            "standoff": 15
           },
           "zerolinecolor": "white",
           "zerolinewidth": 2
          },
          "yaxis": {
           "automargin": true,
           "gridcolor": "white",
           "linecolor": "white",
           "ticks": "",
           "title": {
            "standoff": 15
           },
           "zerolinecolor": "white",
           "zerolinewidth": 2
          }
         }
        },
        "title": {
         "text": "Comment Conversion Rate (relative to Wishlist) by Genre"
        },
        "xaxis": {
         "anchor": "y",
         "autorange": true,
         "domain": [
          0,
          1
         ],
         "range": [
          -0.5639204545454546,
          14.5
         ],
         "tickangle": -45,
         "title": {
          "text": "Genre"
         },
         "type": "category"
        },
        "yaxis": {
         "anchor": "x",
         "autorange": true,
         "domain": [
          0,
          1
         ],
         "range": [
          -0.09496554345325614,
          4.94234154489353
         ],
         "tickformat": ".0%",
         "title": {
          "text": "Comment-to-Wishlist Rate"
         },
         "type": "linear"
        }
       }
      },
      "image/png": "[encoded data removed]",
      "text/html": [
       "<div>                            <div id=\"a7b6dfa7-3302-4254-b969-007301922ea5\" class=\"plotly-graph-div\" style=\"height:700px; width:100%;\"></div>            <script type=\"text/javascript\">                require([\"plotly\"], function(Plotly) {                    window.PLOTLYENV=window.PLOTLYENV || {};                                    if (document.getElementById(\"a7b6dfa7-3302-4254-b969-007301922ea5\")) {                    Plotly.newPlot(                        \"a7b6dfa7-3302-4254-b969-007301922ea5\",                        [{\"alignmentgroup\":\"True\",\"boxpoints\":\"all\",\"hovertemplate\":\"Genre=%{x}\\u003cbr\\u003eComment-to-Wishlist Rate=%{y}\\u003cextra\\u003e\\u003c\\u002fextra\\u003e\",\"legendgroup\":\"\",\"marker\":{\"color\":\"#636efa\"},\"name\":\"\",\"notched\":false,\"offsetgroup\":\"\",\"orientation\":\"v\",\"showlegend\":false,\"x\":[\"Adventure\",\"Brawler\",\"RPG\",\"Adventure\",\"RPG\",\"Turn Based Strategy\",\"Adventure\",\"Platform\",\"Adventure\",\"RPG\",\"Turn Based Strategy\",\"Adventure\",\"Adventure\",\"Platform\",\"Adventure\",\"RPG\",\"Arcade\",\"Platform\",\"Shooter\",\"Adventure\",\"Adventure\",\"Puzzle\",\"Simulator\",\"RPG\",\"Simulator\",\"Strategy\",\"Platform\",\"Shooter\",\"Visual Novel\",\"Adventure\",\"Card & Board Game\",\"Puzzle\",\"Strategy\",\"Adventure\",\"Puzzle\",\"RPG\",\"Adventure\",\"RPG\",\"Turn Based Strategy\",\"Adventure\",\"Platform\",\"RPG\",\"Strategy\",\"Arcade\",\"Shooter\",\"Platform\",\"Adventure\",\"Brawler\",\"RPG\",\"Simulator\",\"Strategy\",\"Adventure\",\"Visual Novel\",\"Adventure\",\"Arcade\",\"Platform\",\"Strategy\",\"Arcade\",\"Brawler\",\"Brawler\",\"Point-and-Click\",\"Puzzle\",\"Simulator\",\"Adventure\",\"RPG\",\"Turn Based Strategy\",\"Adventure\",\"Puzzle\",\"Adventure\",\"Platform\",\"Puzzle\",\"Adventure\",\"Simulator\",\"Visual Novel\",\"Adventure\",\"Platform\",\"Fighting\",\"Puzzle\",\"Shooter\",\"Adventure\",\"Adventure\",\"Adventure\",\"RPG\",\"Simulator\",\"Adventure\",\"Arcade\",\"Shooter\",\"Adventure\",\"Visual Novel\",\"Adventure\",\"Platform\",\"Adventure\",\"Adventure\",\"Brawler\",\"Platform\",\"RPG\",\"Point-and-Click\",\"Simulator\",\"Adventure\",\"Platform\",\"Adventure\",\"Puzzle\",\"Adventure\",\"Adventure\",\"Point-and-Click\",\"Simulator\",\"Strategy\",\"Adventure\",\"Adventure\",\"Platform\",\"Puzzle\",\"RPG\",\"Adventure\",\"Puzzle\",\"Shooter\",\"Adventure\",\"Point-and-Click\",\"Puzzle\",\"RPG\",\"Puzzle\",\"Strategy\",\"Adventure\",\"Point-and-Click\",\"RPG\",\"Simulator\",\"Visual Novel\",\"Adventure\",\"Platform\",\"Adventure\",\"Simulator\",\"Music\",\"Adventure\",\"Puzzle\",\"Adventure\",\"Platform\",\"Simulator\",\"Adventure\",\"Arcade\",\"Music\",\"Adventure\",\"Brawler\",\"RPG\",\"Adventure\",\"RPG\",\"Turn Based Strategy\",\"Adventure\",\"Platform\",\"Adventure\",\"RPG\",\"Turn Based Strategy\",\"Adventure\",\"Adventure\",\"Platform\",\"Adventure\",\"RPG\",\"Arcade\",\"Platform\",\"Shooter\",\"Adventure\",\"Adventure\",\"Puzzle\",\"Simulator\",\"RPG\",\"Simulator\",\"Strategy\",\"Platform\",\"Shooter\",\"Visual Novel\",\"Adventure\",\"Card & Board Game\",\"Puzzle\",\"Strategy\",\"Adventure\",\"Puzzle\",\"RPG\",\"Arcade\",\"RPG\",\"Adventure\",\"Arcade\",\"Platform\",\"Strategy\",\"Arcade\",\"Brawler\",\"Brawler\",\"Point-and-Click\",\"Puzzle\",\"Simulator\",\"Adventure\",\"RPG\",\"Turn Based Strategy\",\"Adventure\",\"Puzzle\",\"Adventure\",\"Adventure\",\"Adventure\",\"RPG\",\"Simulator\",\"Adventure\",\"Arcade\",\"Shooter\",\"Adventure\",\"Visual Novel\",\"Adventure\",\"Platform\",\"Adventure\",\"Adventure\",\"Brawler\",\"Platform\",\"RPG\",\"Point-and-Click\",\"Simulator\",\"Adventure\",\"Platform\",\"Adventure\",\"Puzzle\",\"Adventure\",\"Adventure\",\"Point-and-Click\",\"Simulator\",\"Strategy\",\"Adventure\",\"Adventure\",\"Arcade\",\"RPG\",\"Shooter\",\"Adventure\",\"Brawler\",\"RPG\",\"Adventure\",\"Platform\",\"RPG\",\"Adventure\",\"Point-and-Click\",\"Puzzle\",\"Adventure\",\"RPG\",\"Strategy\",\"Turn Based Strategy\",\"Adventure\",\"Adventure\",\"Platform\",\"Puzzle\",\"RPG\",\"Adventure\",\"Puzzle\",\"Shooter\",\"Adventure\",\"Point-and-Click\",\"Puzzle\",\"RPG\",\"Puzzle\",\"Strategy\",\"Adventure\",\"Point-and-Click\",\"RPG\",\"Simulator\",\"Visual Novel\",\"Adventure\",\"Platform\",\"Adventure\",\"Shooter\",\"Adventure\",\"Shooter\",\"Adventure\",\"Platform\",\"Adventure\",\"Puzzle\",\"RPG\",\"Adventure\",\"Puzzle\",\"Simulator\",\"Strategy\",\"Card & Board Game\",\"Puzzle\",\"RPG\",\"Simulator\",\"Strategy\",\"Turn Based Strategy\",\"Adventure\",\"Point-and-Click\",\"Simulator\",\"Strategy\",\"Adventure\",\"Platform\",\"RPG\",\"Adventure\",\"Puzzle\",\"Adventure\",\"Music\",\"Puzzle\",\"RPG\",\"Adventure\",\"Music\",\"RPG\",\"Adventure\",\"Simulator\",\"Strategy\",\"RPG\",\"Simulator\",\"Strategy\",\"Turn Based Strategy\",\"Adventure\",\"RPG\",\"Visual Novel\",\"Adventure\",\"Point-and-Click\",\"Puzzle\",\"Adventure\",\"Platform\",\"Adventure\",\"Adventure\",\"Platform\",\"Puzzle\",\"Strategy\",\"Adventure\",\"Point-and-Click\",\"Simulator\",\"Arcade\",\"Simulator\",\"Strategy\",\"Music\",\"Adventure\",\"RPG\",\"Adventure\",\"Visual Novel\",\"RPG\",\"Adventure\",\"Puzzle\",\"Arcade\",\"Music\",\"Puzzle\",\"Adventure\",\"Brawler\",\"RPG\",\"Simulator\",\"Adventure\",\"Point-and-Click\",\"Simulator\",\"Strategy\",\"RPG\",\"Simulator\",\"Strategy\",\"Adventure\",\"Platform\",\"Fighting\",\"Adventure\",\"Brawler\",\"RPG\",\"Adventure\",\"RPG\",\"Turn Based Strategy\",\"Adventure\",\"Platform\",\"Adventure\",\"RPG\",\"Turn Based Strategy\",\"Adventure\",\"Adventure\",\"Platform\",\"Adventure\",\"RPG\",\"Arcade\",\"Platform\",\"Shooter\",\"Adventure\",\"Adventure\",\"Puzzle\",\"Simulator\",\"RPG\",\"Simulator\",\"Strategy\",\"Platform\",\"Shooter\",\"Visual Novel\",\"Adventure\",\"Card & Board Game\",\"Puzzle\",\"Strategy\",\"Adventure\",\"Puzzle\",\"RPG\",\"Arcade\",\"RPG\",\"Platform\",\"Adventure\",\"RPG\",\"Turn Based Strategy\",\"Adventure\",\"Visual Novel\",\"Adventure\",\"Arcade\",\"Platform\",\"Strategy\",\"Arcade\",\"Brawler\",\"Brawler\",\"Point-and-Click\",\"Puzzle\",\"Simulator\",\"Adventure\",\"RPG\",\"Turn Based Strategy\",\"Adventure\",\"Puzzle\",\"Adventure\",\"Brawler\",\"RPG\",\"Adventure\",\"Platform\",\"Adventure\",\"Puzzle\",\"Adventure\",\"Platform\",\"Adventure\",\"Puzzle\",\"Adventure\",\"Platform\",\"Puzzle\",\"Adventure\",\"Point-and-Click\",\"Puzzle\",\"Adventure\",\"Visual Novel\",\"Adventure\",\"Platform\",\"Adventure\",\"Platform\",\"Adventure\",\"Visual Novel\",\"Adventure\",\"RPG\",\"Adventure\",\"RPG\",\"Strategy\",\"Turn Based Strategy\",\"Adventure\",\"Puzzle\",\"Strategy\",\"Adventure\",\"Puzzle\",\"Simulator\",\"Adventure\",\"Adventure\",\"Puzzle\",\"Adventure\",\"Adventure\",\"Arcade\",\"RPG\",\"Shooter\",\"Music\",\"Adventure\",\"RPG\",\"Adventure\",\"Puzzle\",\"Simulator\",\"Adventure\",\"Arcade\",\"Platform\",\"Puzzle\",\"RPG\",\"Adventure\",\"Platform\",\"Shooter\",\"Adventure\",\"Arcade\",\"Platform\",\"Adventure\",\"RPG\",\"Adventure\",\"Platform\",\"RPG\",\"Adventure\",\"RPG\",\"Strategy\",\"Turn Based Strategy\",\"Simulator\",\"Adventure\",\"Platform\",\"Shooter\",\"Adventure\",\"Brawler\",\"Adventure\",\"Puzzle\",\"Adventure\",\"Puzzle\",\"Adventure\",\"Puzzle\",\"Simulator\",\"Adventure\",\"Puzzle\",\"RPG\",\"Adventure\",\"Shooter\",\"Adventure\",\"Platform\",\"Puzzle\",\"Arcade\",\"Brawler\",\"Fighting\",\"Adventure\",\"Arcade\",\"Music\",\"Platform\",\"Shooter\",\"Adventure\",\"Platform\",\"Adventure\",\"Arcade\",\"Simulator\",\"Strategy\",\"Adventure\",\"Adventure\",\"Brawler\",\"RPG\",\"RPG\",\"Simulator\",\"Strategy\",\"Adventure\",\"Platform\",\"Puzzle\",\"Adventure\",\"Adventure\",\"Music\",\"Platform\",\"Adventure\",\"Puzzle\",\"RPG\",\"Adventure\",\"RPG\",\"RPG\",\"Simulator\",\"Adventure\",\"Platform\",\"Adventure\",\"Platform\",\"RPG\",\"Adventure\",\"Shooter\",\"Adventure\",\"RPG\",\"Arcade\",\"Shooter\",\"Adventure\",\"Point-and-Click\",\"RPG\",\"Turn Based Strategy\",\"Adventure\",\"Arcade\",\"Platform\",\"Shooter\",\"RPG\",\"Adventure\",\"RPG\",\"Turn Based Strategy\",\"Adventure\",\"Brawler\",\"Platform\",\"Shooter\",\"Point-and-Click\",\"Puzzle\",\"RPG\",\"Simulator\",\"Arcade\",\"Fighting\",\"Strategy\",\"Adventure\",\"Adventure\",\"Brawler\",\"RPG\",\"Simulator\",\"Adventure\",\"Point-and-Click\",\"Simulator\",\"Strategy\",\"RPG\",\"Simulator\",\"Strategy\",\"Adventure\",\"Platform\",\"Adventure\",\"Platform\",\"Simulator\",\"Strategy\",\"Adventure\",\"Music\",\"Platform\",\"Puzzle\",\"Adventure\",\"RPG\",\"Visual Novel\",\"Arcade\",\"Puzzle\",\"Shooter\",\"Card & Board Game\",\"RPG\",\"Simulator\",\"Strategy\",\"Simulator\",\"Strategy\",\"Shooter\",\"Adventure\",\"RPG\",\"Simulator\",\"Adventure\",\"Arcade\",\"Fighting\",\"Adventure\",\"Point-and-Click\",\"Simulator\",\"Strategy\",\"Adventure\",\"Arcade\",\"RPG\",\"Shooter\",\"Arcade\",\"Music\",\"Puzzle\",\"Strategy\",\"Simulator\",\"Strategy\",\"Adventure\",\"Adventure\",\"Platform\",\"Adventure\",\"Platform\",\"Simulator\",\"Strategy\",\"Card & Board Game\",\"Strategy\",\"Turn Based Strategy\",\"Adventure\",\"Platform\",\"Music\",\"Puzzle\",\"Adventure\",\"Point-and-Click\",\"Puzzle\",\"Adventure\",\"Brawler\",\"Platform\",\"Adventure\",\"Platform\",\"Puzzle\",\"RPG\",\"Simulator\",\"Strategy\",\"Adventure\",\"Platform\",\"RPG\",\"Adventure\",\"RPG\",\"Strategy\",\"Turn Based Strategy\",\"Adventure\",\"Point-and-Click\",\"Puzzle\",\"Point-and-Click\",\"Simulator\",\"Card & Board Game\",\"Puzzle\",\"Simulator\",\"Adventure\",\"Platform\",\"Puzzle\",\"Strategy\",\"Adventure\",\"Shooter\",\"Strategy\",\"Brawler\",\"Fighting\",\"Arcade\",\"Music\",\"Platform\",\"Adventure\",\"Platform\",\"Puzzle\",\"Puzzle\",\"Strategy\",\"Adventure\",\"RPG\",\"Turn Based Strategy\",\"Adventure\",\"RPG\",\"Turn Based Strategy\",\"Adventure\",\"RPG\"],\"x0\":\" \",\"xaxis\":\"x\",\"y\":[0.8055555555555556,0.8055555555555556,0.8055555555555556,1.9444444444444444,1.9444444444444444,1.9444444444444444,1.3043478260869565,1.3043478260869565,0.42105263157894735,0.42105263157894735,0.42105263157894735,0.4411764705882353,1.4,1.4,0.4074074074074074,0.4074074074074074,0.7307692307692307,0.7307692307692307,0.7307692307692307,0.37272727272727274,0.5806451612903226,0.5806451612903226,0.5806451612903226,1.5454545454545454,1.5454545454545454,1.5454545454545454,0.3773913043478261,0.3773913043478261,0.3773913043478261,0.43478260869565216,0.43478260869565216,0.43478260869565216,0.43478260869565216,0.3426923076923077,0.3426923076923077,0.3426923076923077,0.9787516600265604,0.9787516600265604,0.9787516600265604,2.1922428330522767,2.1922428330522767,2.1922428330522767,2.1922428330522767,1.5086206896551724,1.5086206896551724,0.2792307692307692,0.2804761904761905,0.2804761904761905,0.2804761904761905,0.2804761904761905,0.2804761904761905,1.7021739130434783,1.7021739130434783,0.7333333333333333,0.7333333333333333,0.7333333333333333,0.7333333333333333,1.0615199034981906,1.0615199034981906,0.2752173913043478,0.5776923076923077,0.5776923076923077,0.5776923076923077,0.8106995884773662,0.8106995884773662,0.8106995884773662,1.0769230769230769,1.0769230769230769,1.1326291079812207,1.1326291079812207,1.1326291079812207,0.6266666666666667,0.6266666666666667,0.6266666666666667,0.5728571428571428,0.5728571428571428,0.9916864608076009,0.9916864608076009,0.9916864608076009,0.9207683073229291,0.7542372881355932,0.6119402985074627,0.6119402985074627,1.975206611570248,1.433106575963719,1.433106575963719,1.433106575963719,0.41846153846153844,0.41846153846153844,0.6341666666666667,0.6341666666666667,0.7716666666666666,0.647,0.647,0.647,0.647,0.8173758865248227,0.8173758865248227,1.2075848303393213,1.2075848303393213,0.9415730337078652,0.9415730337078652,0.9987029831387808,2.7710843373493974,2.7710843373493974,2.7710843373493974,2.7710843373493974,1.3640897755610972,0.3936363636363636,0.3936363636363636,0.3936363636363636,0.3936363636363636,0.5310796074154853,0.5310796074154853,0.5310796074154853,0.7254054054054054,0.7254054054054054,0.7254054054054054,0.7254054054054054,0.45416666666666666,0.45416666666666666,0.38095238095238093,0.38095238095238093,0.38095238095238093,0.38095238095238093,0.38095238095238093,1.2727272727272727,1.2727272727272727,2.696,2.696,2.077777777777778,1.28992628992629,1.28992628992629,0.5588235294117647,0.5588235294117647,0.5588235294117647,0.9188846641318125,0.9188846641318125,0.9188846641318125,0.8055555555555556,0.8055555555555556,0.8055555555555556,1.9444444444444444,1.9444444444444444,1.9444444444444444,1.3043478260869565,1.3043478260869565,0.42105263157894735,0.42105263157894735,0.42105263157894735,0.4411764705882353,1.4,1.4,0.4074074074074074,0.4074074074074074,0.7307692307692307,0.7307692307692307,0.7307692307692307,0.37272727272727274,0.5806451612903226,0.5806451612903226,0.5806451612903226,1.5454545454545454,1.5454545454545454,1.5454545454545454,0.3773913043478261,0.3773913043478261,0.3773913043478261,0.43478260869565216,0.43478260869565216,0.43478260869565216,0.43478260869565216,0.3426923076923077,0.3426923076923077,0.3426923076923077,2.0440097799511,2.0440097799511,0.7333333333333333,0.7333333333333333,0.7333333333333333,0.7333333333333333,1.0615199034981906,1.0615199034981906,0.2752173913043478,0.5776923076923077,0.5776923076923077,0.5776923076923077,0.8106995884773662,0.8106995884773662,0.8106995884773662,1.0769230769230769,1.0769230769230769,0.9207683073229291,0.7542372881355932,0.6119402985074627,0.6119402985074627,1.975206611570248,1.433106575963719,1.433106575963719,1.433106575963719,0.41846153846153844,0.41846153846153844,0.6341666666666667,0.6341666666666667,0.7716666666666666,0.647,0.647,0.647,0.647,0.8173758865248227,0.8173758865248227,1.2075848303393213,1.2075848303393213,0.9415730337078652,0.9415730337078652,0.9987029831387808,2.7710843373493974,2.7710843373493974,2.7710843373493974,2.7710843373493974,0.9127837514934289,0.7735849056603774,0.7735849056603774,0.7735849056603774,0.7735849056603774,2.145374449339207,2.145374449339207,2.145374449339207,0.41641337386018235,0.41641337386018235,0.41641337386018235,0.6880570409982175,0.6880570409982175,0.6880570409982175,1.1329479768786128,1.1329479768786128,1.1329479768786128,1.1329479768786128,1.3640897755610972,0.3936363636363636,0.3936363636363636,0.3936363636363636,0.3936363636363636,0.5310796074154853,0.5310796074154853,0.5310796074154853,0.7254054054054054,0.7254054054054054,0.7254054054054054,0.7254054054054054,0.45416666666666666,0.45416666666666666,0.38095238095238093,0.38095238095238093,0.38095238095238093,0.38095238095238093,0.38095238095238093,1.2727272727272727,1.2727272727272727,0.7792,0.7792,0.5284552845528455,0.5284552845528455,0.7752613240418118,0.7752613240418118,0.5300101729399797,0.5300101729399797,0.5300101729399797,0.4257602862254025,0.4257602862254025,0.4257602862254025,0.4257602862254025,0.9435626102292769,0.9435626102292769,0.9435626102292769,0.9435626102292769,0.9435626102292769,0.9435626102292769,2.26890756302521,2.26890756302521,2.26890756302521,2.26890756302521,0.275,0.275,0.275,1.28992628992629,1.28992628992629,0.5072933549432739,0.5072933549432739,0.5072933549432739,0.5072933549432739,0.7123595505617978,0.7123595505617978,0.7123595505617978,1.1641025641025642,1.1641025641025642,1.1641025641025642,0.4171270718232044,0.4171270718232044,0.4171270718232044,0.4171270718232044,0.7457627118644068,0.7457627118644068,0.7457627118644068,1.0104712041884816,1.0104712041884816,1.0104712041884816,1.1379310344827587,1.1379310344827587,0.3003533568904594,0.987012987012987,0.987012987012987,0.987012987012987,0.987012987012987,0.5629453681710214,0.5629453681710214,0.40978593272171254,3.2695652173913046,3.2695652173913046,3.2695652173913046,0.9585492227979274,0.7608695652173914,0.7608695652173914,0.4032846715328467,0.4032846715328467,0.9896907216494846,1.2105263157894737,1.2105263157894737,0.4425531914893617,0.4425531914893617,0.4425531914893617,0.9061488673139159,0.9061488673139159,0.9061488673139159,0.9061488673139159,1.7927927927927927,1.7927927927927927,1.7927927927927927,1.7927927927927927,1.608910891089109,1.608910891089109,1.608910891089109,0.8589420654911839,0.8589420654911839,1.4577464788732395,0.8055555555555556,0.8055555555555556,0.8055555555555556,1.9444444444444444,1.9444444444444444,1.9444444444444444,1.3043478260869565,1.3043478260869565,0.42105263157894735,0.42105263157894735,0.42105263157894735,0.4411764705882353,1.4,1.4,0.4074074074074074,0.4074074074074074,0.7307692307692307,0.7307692307692307,0.7307692307692307,0.37272727272727274,0.5806451612903226,0.5806451612903226,0.5806451612903226,1.5454545454545454,1.5454545454545454,1.5454545454545454,0.3773913043478261,0.3773913043478261,0.3773913043478261,0.43478260869565216,0.43478260869565216,0.43478260869565216,0.43478260869565216,0.3426923076923077,0.3426923076923077,0.3426923076923077,2.0440097799511,2.0440097799511,3.225092250922509,0.9787516600265604,0.9787516600265604,0.9787516600265604,1.7021739130434783,1.7021739130434783,0.7333333333333333,0.7333333333333333,0.7333333333333333,0.7333333333333333,1.0615199034981906,1.0615199034981906,0.2752173913043478,0.5776923076923077,0.5776923076923077,0.5776923076923077,0.8106995884773662,0.8106995884773662,0.8106995884773662,1.0769230769230769,1.0769230769230769,0.5271428571428571,0.5271428571428571,0.5271428571428571,0.56125,0.56125,0.37259100642398285,0.37259100642398285,0.4185068349106204,0.4185068349106204,0.4166666666666667,0.4166666666666667,0.6073333333333333,0.6073333333333333,0.6073333333333333,0.6566791510611736,0.6566791510611736,0.6566791510611736,0.726878612716763,0.726878612716763,0.7333333333333333,0.7333333333333333,1.1,1.1,0.5284178187403994,0.5284178187403994,0.5853846153846154,0.5853846153846154,0.3193979933110368,0.3193979933110368,0.3193979933110368,0.3193979933110368,1.4012096774193548,1.4012096774193548,2.3010204081632653,1.302919708029197,1.302919708029197,1.302919708029197,0.2888235294117647,1.0124416796267497,1.0124416796267497,0.9127837514934289,0.7735849056603774,0.7735849056603774,0.7735849056603774,0.7735849056603774,2.077777777777778,0.6718972895863052,0.6718972895863052,0.535,0.535,0.535,1.1063829787234043,1.1063829787234043,1.1063829787234043,1.1063829787234043,1.1063829787234043,0.765,0.765,0.765,0.8732193732193733,0.8732193732193733,0.8732193732193733,0.3946153846153846,0.3946153846153846,0.6106014271151886,0.6106014271151886,0.6106014271151886,0.9444444444444444,0.9444444444444444,0.9444444444444444,0.9444444444444444,1.1094890510948905,0.7835497835497836,0.7835497835497836,0.7835497835497836,0.5874439461883408,0.5874439461883408,0.9314456035767511,0.9314456035767511,1.529940119760479,1.529940119760479,1.006872852233677,1.006872852233677,1.006872852233677,0.47368421052631576,0.47368421052631576,0.47368421052631576,1.8469945355191257,1.8469945355191257,0.8787878787878788,0.8787878787878788,0.8787878787878788,1.1524163568773234,1.1524163568773234,1.1524163568773234,4.690476190476191,4.690476190476191,4.690476190476191,4.690476190476191,0.3694029850746269,0.43630573248407645,0.43630573248407645,1.3184855233853006,2.25,2.25,2.25,0.6671949286846276,0.6649350649350649,0.6649350649350649,0.6649350649350649,0.24615384615384617,0.24615384615384617,0.24615384615384617,1.6687116564417177,1.6687116564417177,1.6687116564417177,0.9152892561983471,0.9801699716713881,0.9801699716713881,0.9801699716713881,0.25165562913907286,0.25165562913907286,0.25165562913907286,0.645320197044335,0.645320197044335,0.6273584905660378,0.6273584905660378,0.718801996672213,0.718801996672213,0.8730512249443207,0.8730512249443207,0.8730512249443207,0.30718954248366015,0.30718954248366015,0.15689981096408318,0.15689981096408318,0.8904494382022472,0.8904494382022472,0.2708113804004215,0.2708113804004215,0.2708113804004215,0.2708113804004215,1.6575342465753424,1.6575342465753424,1.6575342465753424,1.6575342465753424,0.2594594594594595,0.6672897196261682,0.6672897196261682,0.6672897196261682,0.45754716981132076,0.45754716981132076,0.45754716981132076,1.4736842105263157,0.4117647058823529,0.4117647058823529,0.4117647058823529,0.4117647058823529,4.363636363636363,4.363636363636363,4.363636363636363,1.1027667984189724,0.9061488673139159,0.9061488673139159,0.9061488673139159,0.9061488673139159,1.7927927927927927,1.7927927927927927,1.7927927927927927,1.7927927927927927,1.608910891089109,1.608910891089109,1.608910891089109,0.8589420654911839,0.8589420654911839,0.3706070287539936,0.3706070287539936,0.40710382513661203,0.40710382513661203,3.5428571428571427,3.5428571428571427,3.5428571428571427,3.5428571428571427,0.8203592814371258,0.8203592814371258,0.8203592814371258,0.8584905660377359,0.8584905660377359,0.8584905660377359,1.6896551724137931,1.6896551724137931,1.6896551724137931,1.6896551724137931,1.1333333333333333,1.1333333333333333,1.2191011235955056,0.4629080118694362,0.4629080118694362,0.4629080118694362,1.0154320987654322,1.0154320987654322,1.0154320987654322,0.7935323383084577,0.7935323383084577,0.5338983050847458,0.5338983050847458,1.7945205479452055,1.7945205479452055,1.7945205479452055,1.7945205479452055,3.7777777777777777,3.7777777777777777,4.3428571428571425,4.3428571428571425,1.4193548387096775,1.4193548387096775,2.46,1.0104712041884816,1.0104712041884816,0.9388888888888889,0.9388888888888889,0.9388888888888889,0.9388888888888889,1.2584269662921348,1.2584269662921348,1.2584269662921348,0.6782006920415224,0.6782006920415224,3.037037037037037,3.037037037037037,0.9173553719008265,0.9173553719008265,0.9173553719008265,1.4360902255639099,1.4360902255639099,1.4360902255639099,0.6584699453551912,0.6584699453551912,0.6584699453551912,0.35019455252918286,0.35019455252918286,0.35019455252918286,0.6045845272206304,0.6045845272206304,0.6045845272206304,0.7393939393939394,0.3137254901960784,0.3137254901960784,0.3137254901960784,1.2949640287769784,1.2949640287769784,1.2949640287769784,1.1411042944785277,1.1411042944785277,1.3584905660377358,1.3584905660377358,1.3584905660377358,1.3978494623655915,1.3978494623655915,1.3978494623655915,1.3978494623655915,1.0,1.0,1.0,3.1739130434782608,3.1739130434782608,1.0175438596491229,1.0175438596491229,1.0175438596491229,0.776255707762557,0.776255707762557,0.776255707762557,3.7777777777777777,3.7777777777777777,0.2764227642276423,0.2764227642276423,0.2764227642276423,0.5407725321888412,0.5407725321888412,0.5407725321888412,1.125,1.125],\"y0\":\" \",\"yaxis\":\"y\",\"type\":\"box\"}],                        {\"template\":{\"data\":{\"histogram2dcontour\":[{\"type\":\"histogram2dcontour\",\"colorbar\":{\"outlinewidth\":0,\"ticks\":\"\"},\"colorscale\":[[0.0,\"#0d0887\"],[0.1111111111111111,\"#46039f\"],[0.2222222222222222,\"#7201a8\"],[0.3333333333333333,\"#9c179e\"],[0.4444444444444444,\"#bd3786\"],[0.5555555555555556,\"#d8576b\"],[0.6666666666666666,\"#ed7953\"],[0.7777777777777778,\"#fb9f3a\"],[0.8888888888888888,\"#fdca26\"],[1.0,\"#f0f921\"]]}],\"choropleth\":[{\"type\":\"choropleth\",\"colorbar\":{\"outlinewidth\":0,\"ticks\":\"\"}}],\"histogram2d\":[{\"type\":\"histogram2d\",\"colorbar\":{\"outlinewidth\":0,\"ticks\":\"\"},\"colorscale\":[[0.0,\"#0d0887\"],[0.1111111111111111,\"#46039f\"],[0.2222222222222222,\"#7201a8\"],[0.3333333333333333,\"#9c179e\"],[0.4444444444444444,\"#bd3786\"],[0.5555555555555556,\"#d8576b\"],[0.6666666666666666,\"#ed7953\"],[0.7777777777777778,\"#fb9f3a\"],[0.8888888888888888,\"#fdca26\"],[1.0,\"#f0f921\"]]}],\"heatmap\":[{\"type\":\"heatmap\",\"colorbar\":{\"outlinewidth\":0,\"ticks\":\"\"},\"colorscale\":[[0.0,\"#0d0887\"],[0.1111111111111111,\"#46039f\"],[0.2222222222222222,\"#7201a8\"],[0.3333333333333333,\"#9c179e\"],[0.4444444444444444,\"#bd3786\"],[0.5555555555555556,\"#d8576b\"],[0.6666666666666666,\"#ed7953\"],[0.7777777777777778,\"#fb9f3a\"],[0.8888888888888888,\"#fdca26\"],[1.0,\"#f0f921\"]]}],\"heatmapgl\":[{\"type\":\"heatmapgl\",\"colorbar\":{\"outlinewidth\":0,\"ticks\":\"\"},\"colorscale\":[[0.0,\"#0d0887\"],[0.1111111111111111,\"#46039f\"],[0.2222222222222222,\"#7201a8\"],[0.3333333333333333,\"#9c179e\"],[0.4444444444444444,\"#bd3786\"],[0.5555555555555556,\"#d8576b\"],[0.6666666666666666,\"#ed7953\"],[0.7777777777777778,\"#fb9f3a\"],[0.8888888888888888,\"#fdca26\"],[1.0,\"#f0f921\"]]}],\"contourcarpet\":[{\"type\":\"contourcarpet\",\"colorbar\":{\"outlinewidth\":0,\"ticks\":\"\"}}],\"contour\":[{\"type\":\"contour\",\"colorbar\":{\"outlinewidth\":0,\"ticks\":\"\"},\"colorscale\":[[0.0,\"#0d0887\"],[0.1111111111111111,\"#46039f\"],[0.2222222222222222,\"#7201a8\"],[0.3333333333333333,\"#9c179e\"],[0.4444444444444444,\"#bd3786\"],[0.5555555555555556,\"#d8576b\"],[0.6666666666666666,\"#ed7953\"],[0.7777777777777778,\"#fb9f3a\"],[0.8888888888888888,\"#fdca26\"],[1.0,\"#f0f921\"]]}],\"surface\":[{\"type\":\"surface\",\"colorbar\":{\"outlinewidth\":0,\"ticks\":\"\"},\"colorscale\":[[0.0,\"#0d0887\"],[0.1111111111111111,\"#46039f\"],[0.2222222222222222,\"#7201a8\"],[0.3333333333333333,\"#9c179e\"],[0.4444444444444444,\"#bd3786\"],[0.5555555555555556,\"#d8576b\"],[0.6666666666666666,\"#ed7953\"],[0.7777777777777778,\"#fb9f3a\"],[0.8888888888888888,\"#fdca26\"],[1.0,\"#f0f921\"]]}],\"mesh3d\":[{\"type\":\"mesh3d\",\"colorbar\":{\"outlinewidth\":0,\"ticks\":\"\"}}],\"scatter\":[{\"fillpattern\":{\"fillmode\":\"overlay\",\"size\":10,\"solidity\":0.2},\"type\":\"scatter\"}],\"parcoords\":[{\"type\":\"parcoords\",\"line\":{\"colorbar\":{\"outlinewidth\":0,\"ticks\":\"\"}}}],\"scatterpolargl\":[{\"type\":\"scatterpolargl\",\"marker\":{\"colorbar\":{\"outlinewidth\":0,\"ticks\":\"\"}}}],\"bar\":[{\"error_x\":{\"color\":\"#2a3f5f\"},\"error_y\":{\"color\":\"#2a3f5f\"},\"marker\":{\"line\":{\"color\":\"#E5ECF6\",\"width\":0.5},\"pattern\":{\"fillmode\":\"overlay\",\"size\":10,\"solidity\":0.2}},\"type\":\"bar\"}],\"scattergeo\":[{\"type\":\"scattergeo\",\"marker\":{\"colorbar\":{\"outlinewidth\":0,\"ticks\":\"\"}}}],\"scatterpolar\":[{\"type\":\"scatterpolar\",\"marker\":{\"colorbar\":{\"outlinewidth\":0,\"ticks\":\"\"}}}],\"histogram\":[{\"marker\":{\"pattern\":{\"fillmode\":\"overlay\",\"size\":10,\"solidity\":0.2}},\"type\":\"histogram\"}],\"scattergl\":[{\"type\":\"scattergl\",\"marker\":{\"colorbar\":{\"outlinewidth\":0,\"ticks\":\"\"}}}],\"scatter3d\":[{\"type\":\"scatter3d\",\"line\":{\"colorbar\":{\"outlinewidth\":0,\"ticks\":\"\"}},\"marker\":{\"colorbar\":{\"outlinewidth\":0,\"ticks\":\"\"}}}],\"scattermapbox\":[{\"type\":\"scattermapbox\",\"marker\":{\"colorbar\":{\"outlinewidth\":0,\"ticks\":\"\"}}}],\"scatterternary\":[{\"type\":\"scatterternary\",\"marker\":{\"colorbar\":{\"outlinewidth\":0,\"ticks\":\"\"}}}],\"scattercarpet\":[{\"type\":\"scattercarpet\",\"marker\":{\"colorbar\":{\"outlinewidth\":0,\"ticks\":\"\"}}}],\"carpet\":[{\"aaxis\":{\"endlinecolor\":\"#2a3f5f\",\"gridcolor\":\"white\",\"linecolor\":\"white\",\"minorgridcolor\":\"white\",\"startlinecolor\":\"#2a3f5f\"},\"baxis\":{\"endlinecolor\":\"#2a3f5f\",\"gridcolor\":\"white\",\"linecolor\":\"white\",\"minorgridcolor\":\"white\",\"startlinecolor\":\"#2a3f5f\"},\"type\":\"carpet\"}],\"table\":[{\"cells\":{\"fill\":{\"color\":\"#EBF0F8\"},\"line\":{\"color\":\"white\"}},\"header\":{\"fill\":{\"color\":\"#C8D4E3\"},\"line\":{\"color\":\"white\"}},\"type\":\"table\"}],\"barpolar\":[{\"marker\":{\"line\":{\"color\":\"#E5ECF6\",\"width\":0.5},\"pattern\":{\"fillmode\":\"overlay\",\"size\":10,\"solidity\":0.2}},\"type\":\"barpolar\"}],\"pie\":[{\"automargin\":true,\"type\":\"pie\"}]},\"layout\":{\"autotypenumbers\":\"strict\",\"colorway\":[\"#636efa\",\"#EF553B\",\"#00cc96\",\"#ab63fa\",\"#FFA15A\",\"#19d3f3\",\"#FF6692\",\"#B6E880\",\"#FF97FF\",\"#FECB52\"],\"font\":{\"color\":\"#2a3f5f\"},\"hovermode\":\"closest\",\"hoverlabel\":{\"align\":\"left\"},\"paper_bgcolor\":\"white\",\"plot_bgcolor\":\"#E5ECF6\",\"polar\":{\"bgcolor\":\"#E5ECF6\",\"angularaxis\":{\"gridcolor\":\"white\",\"linecolor\":\"white\",\"ticks\":\"\"},\"radialaxis\":{\"gridcolor\":\"white\",\"linecolor\":\"white\",\"ticks\":\"\"}},\"ternary\":{\"bgcolor\":\"#E5ECF6\",\"aaxis\":{\"gridcolor\":\"white\",\"linecolor\":\"white\",\"ticks\":\"\"},\"baxis\":{\"gridcolor\":\"white\",\"linecolor\":\"white\",\"ticks\":\"\"},\"caxis\":{\"gridcolor\":\"white\",\"linecolor\":\"white\",\"ticks\":\"\"}},\"coloraxis\":{\"colorbar\":{\"outlinewidth\":0,\"ticks\":\"\"}},\"colorscale\":{\"sequential\":[[0.0,\"#0d0887\"],[0.1111111111111111,\"#46039f\"],[0.2222222222222222,\"#7201a8\"],[0.3333333333333333,\"#9c179e\"],[0.4444444444444444,\"#bd3786\"],[0.5555555555555556,\"#d8576b\"],[0.6666666666666666,\"#ed7953\"],[0.7777777777777778,\"#fb9f3a\"],[0.8888888888888888,\"#fdca26\"],[1.0,\"#f0f921\"]],\"sequentialminus\":[[0.0,\"#0d0887\"],[0.1111111111111111,\"#46039f\"],[0.2222222222222222,\"#7201a8\"],[0.3333333333333333,\"#9c179e\"],[0.4444444444444444,\"#bd3786\"],[0.5555555555555556,\"#d8576b\"],[0.6666666666666666,\"#ed7953\"],[0.7777777777777778,\"#fb9f3a\"],[0.8888888888888888,\"#fdca26\"],[1.0,\"#f0f921\"]],\"diverging\":[[0,\"#8e0152\"],[0.1,\"#c51b7d\"],[0.2,\"#de77ae\"],[0.3,\"#f1b6da\"],[0.4,\"#fde0ef\"],[0.5,\"#f7f7f7\"],[0.6,\"#e6f5d0\"],[0.7,\"#b8e186\"],[0.8,\"#7fbc41\"],[0.9,\"#4d9221\"],[1,\"#276419\"]]},\"xaxis\":{\"gridcolor\":\"white\",\"linecolor\":\"white\",\"ticks\":\"\",\"title\":{\"standoff\":15},\"zerolinecolor\":\"white\",\"automargin\":true,\"zerolinewidth\":2},\"yaxis\":{\"gridcolor\":\"white\",\"linecolor\":\"white\",\"ticks\":\"\",\"title\":{\"standoff\":15},\"zerolinecolor\":\"white\",\"automargin\":true,\"zerolinewidth\":2},\"scene\":{\"xaxis\":{\"backgroundcolor\":\"#E5ECF6\",\"gridcolor\":\"white\",\"linecolor\":\"white\",\"showbackground\":true,\"ticks\":\"\",\"zerolinecolor\":\"white\",\"gridwidth\":2},\"yaxis\":{\"backgroundcolor\":\"#E5ECF6\",\"gridcolor\":\"white\",\"linecolor\":\"white\",\"showbackground\":true,\"ticks\":\"\",\"zerolinecolor\":\"white\",\"gridwidth\":2},\"zaxis\":{\"backgroundcolor\":\"#E5ECF6\",\"gridcolor\":\"white\",\"linecolor\":\"white\",\"showbackground\":true,\"ticks\":\"\",\"zerolinecolor\":\"white\",\"gridwidth\":2}},\"shapedefaults\":{\"line\":{\"color\":\"#2a3f5f\"}},\"annotationdefaults\":{\"arrowcolor\":\"#2a3f5f\",\"arrowhead\":0,\"arrowwidth\":1},\"geo\":{\"bgcolor\":\"white\",\"landcolor\":\"#E5ECF6\",\"subunitcolor\":\"white\",\"showland\":true,\"showlakes\":true,\"lakecolor\":\"white\"},\"title\":{\"x\":0.05},\"mapbox\":{\"style\":\"light\"}}},\"xaxis\":{\"anchor\":\"y\",\"domain\":[0.0,1.0],\"title\":{\"text\":\"Genre\"},\"tickangle\":-45},\"yaxis\":{\"anchor\":\"x\",\"domain\":[0.0,1.0],\"title\":{\"text\":\"Comment-to-Wishlist Rate\"},\"tickformat\":\".0%\"},\"legend\":{\"tracegroupgap\":0},\"title\":{\"text\":\"Comment Conversion Rate (relative to Wishlist) by Genre\"},\"boxmode\":\"group\",\"margin\":{\"t\":80,\"b\":100},\"height\":700},                        {\"responsive\": true}                    ).then(function(){\n",
       "                            \n",
       "var gd = document.getElementById('a7b6dfa7-3302-4254-b969-007301922ea5');\n",
       "var x = new MutationObserver(function (mutations, observer) {{\n",
       "        var display = window.getComputedStyle(gd).display;\n",
       "        if (!display || display === 'none') {{\n",
       "            console.log([gd, 'removed!']);\n",
       "            Plotly.purge(gd);\n",
       "            observer.disconnect();\n",
       "        }}\n",
       "}});\n",
       "\n",
       "// Listen for the removal of the full notebook cells\n",
       "var notebookContainer = gd.closest('#notebook-container');\n",
       "if (notebookContainer) {{\n",
       "    x.observe(notebookContainer, {childList: true});\n",
       "}}\n",
       "\n",
       "// Listen for the clearing of the current output cell\n",
       "var outputEl = gd.closest('.output');\n",
       "if (outputEl) {{\n",
       "    x.observe(outputEl, {childList: true});\n",
       "}}\n",
       "\n",
       "                        })                };                });            </script>        </div>"
      ]
     },
     "metadata": {},
     "output_type": "display_data"
    }
   ],
   "source": [
    "#plot box plot\n",
    "fig = px.box(\n",
    "    df_filtered,\n",
    "    x='Genres',\n",
    "    y='comment_conversion_rate',\n",
    "    points='all', \n",
    "    title='Comment Conversion Rate (relative to Wishlist) by Genre',\n",
    "    labels={'comment_conversion_rate': 'Comment-to-Wishlist Rate', 'Genres': 'Genre'}\n",
    ")\n",
    "\n",
    "fig.update_layout(\n",
    "    xaxis_tickangle=-45,\n",
    "    yaxis_tickformat=\".0%\",\n",
    "    height=700,\n",
    "    margin=dict(t=80, b=100)\n",
    ")\n",
    "fig.show()"
   ]
  },
  {
   "cell_type": "code",
   "execution_count": 231,
   "id": "5fa721ed-9b97-4d5a-9bba-3a5368bc5a4a",
   "metadata": {},
   "outputs": [
    {
     "name": "stdout",
     "output_type": "stream",
     "text": [
      "\n",
      " ANOVA test result：F = 5.357, p = 0.000000\n",
      "There is significant differences in commeent conversion rate across genres\n"
     ]
    }
   ],
   "source": [
    "# significance test(ANOVA)\n",
    "groups = [\n",
    "    g['comment_conversion_rate'].dropna() \n",
    "    for _, g in df_exploded.groupby('Genres') \n",
    "    if len(g) >= 5\n",
    "]\n",
    "\n",
    "stat, p_value = f_oneway(*groups)\n",
    "print(f\"\\n ANOVA test result：F = {stat:.3f}, p = {p_value:.6f}\")\n",
    "\n",
    "if p_value < 0.05:\n",
    "    print(\"There is significant differences in commeent conversion rate across genres\")\n",
    "else:\n",
    "    print(\"No significant differences detected（p ≥ 0.05）\")"
   ]
  },
  {
   "cell_type": "markdown",
   "id": "bfd372b4-71c3-48f1-92c5-cf4b337407fe",
   "metadata": {},
   "source": [
    "3. convertion rate by genres across time"
   ]
  },
  {
   "cell_type": "code",
   "execution_count": 251,
   "id": "d24d3d8c-0dce-446d-bd43-694e47ba1cd0",
   "metadata": {},
   "outputs": [
    {
     "name": "stdout",
     "output_type": "stream",
     "text": [
      "game counts by year:\n",
      "Release Year\n",
      "2001     1\n",
      "2002     1\n",
      "2003     1\n",
      "2004     3\n",
      "2007     1\n",
      "2008     3\n",
      "2009     2\n",
      "2010     4\n",
      "2011     2\n",
      "2012     9\n",
      "2013     9\n",
      "2014    12\n",
      "2015    10\n",
      "2016    16\n",
      "2017    15\n",
      "2018    24\n",
      "2019    17\n",
      "2020    14\n",
      "2021    23\n",
      "2022    29\n",
      "2023     2\n",
      "2024     1\n",
      "Name: count, dtype: Int64\n"
     ]
    }
   ],
   "source": [
    "#extract 'release year'\n",
    "df_exploded['Release Year'] = pd.to_datetime(df_exploded['Release Date'], errors='coerce').dt.year\n",
    "df_exploded['Release Year'] = df_exploded['Release Year'].astype('Int64')\n",
    "\n",
    "#count games by year\n",
    "year_counts = (\n",
    "    df_exploded[['Title', 'Release Year']]\n",
    "    .drop_duplicates(subset='Title')\n",
    "    ['Release Year']\n",
    "    .value_counts()\n",
    "    .sort_index()\n",
    ")\n",
    "print(\"game counts by year:\")\n",
    "print(year_counts)"
   ]
  },
  {
   "cell_type": "code",
   "execution_count": 253,
   "id": "1af3b6b7-5b09-41ca-8f18-8735ba4a8075",
   "metadata": {},
   "outputs": [
    {
     "data": {
      "image/png": "[encoded data removed]",
      "text/plain": [
       "<Figure size 1000x500 with 1 Axes>"
      ]
     },
     "metadata": {},
     "output_type": "display_data"
    }
   ],
   "source": [
    "#visualize yearly distribution\n",
    "plt.figure(figsize=(10,5))\n",
    "year_counts.plot(kind='bar')\n",
    "plt.title(\"Unique Games per Year\")\n",
    "plt.ylabel(\"Number of Unique Games\")\n",
    "plt.xlabel(\"Release Year\")\n",
    "plt.show()"
   ]
  },
  {
   "cell_type": "code",
   "execution_count": 301,
   "id": "40176189-686b-443b-8aa4-5de0b6ad1808",
   "metadata": {},
   "outputs": [
    {
     "name": "stdout",
     "output_type": "stream",
     "text": [
      "\n",
      " retained year: [2012, 2013, 2014, 2015, 2016, 2017, 2018, 2019, 2020, 2021, 2022]\n",
      "\n",
      " retained sample size:629\n",
      "\n",
      " top 5 genres: ['Adventure', 'RPG', 'Platform', 'Puzzle', 'Simulator']\n",
      "\n",
      " filtered sample size:427\n",
      "\n",
      " filtered data preview:\n",
      "           Title  Release Year     Genres\n",
      "0          Hades          2019  Adventure\n",
      "0          Hades          2019        RPG\n",
      "1      Undertale          2015  Adventure\n",
      "1      Undertale          2015        RPG\n",
      "2  Hollow Knight          2017  Adventure\n",
      "2  Hollow Knight          2017   Platform\n",
      "3          Omori          2020  Adventure\n",
      "3          Omori          2020        RPG\n",
      "5          Stray          2022  Adventure\n",
      "6        Celeste          2018  Adventure\n"
     ]
    }
   ],
   "source": [
    "#retain years with a sample size>5\n",
    "valid_years = year_counts[year_counts >= 5].index\n",
    "df_year_filtered = df_exploded[df_exploded['Release Year'].isin(valid_years)]\n",
    "print(f\"\\n retained year: {list(valid_years)}\")\n",
    "print(f\"\\n retained sample size:{len(df_year_filtered)}\")\n",
    "\n",
    "#filter top 5 genres\n",
    "top5_genres = df_year_filtered['Genres'].value_counts().nlargest(5).index\n",
    "df_top5 = df_year_filtered[df_year_filtered['Genres'].isin(top5_genres)]\n",
    "print(f\"\\n top 5 genres: {list(top5_genres)}\")\n",
    "print(f\"\\n filtered sample size:{len(df_top5)}\")\n",
    "\n",
    "#preview\n",
    "print(\"\\n filtered data preview:\")\n",
    "print(df_top5[['Title','Release Year','Genres']].head(10))"
   ]
  },
  {
   "cell_type": "code",
   "execution_count": 329,
   "id": "e539c4f0-72ae-49d0-9df8-63c45ee40374",
   "metadata": {},
   "outputs": [
    {
     "data": {
      "application/vnd.plotly.v1+json": {
       "config": {
        "plotlyServerURL": "https://plot.ly"
       },
       "data": [
        {
         "hovertemplate": "Genres=Adventure<br>Release Year=%{x}<br>Average Comment/Wishlist Conversion Rate=%{y}<extra></extra>",
         "legendgroup": "Adventure",
         "line": {
          "color": "#636efa",
          "dash": "solid"
         },
         "marker": {
          "symbol": "circle"
         },
         "mode": "lines+markers",
         "name": "Adventure",
         "orientation": "v",
         "showlegend": true,
         "type": "scatter",
         "x": [
          2012,
          2013,
          2014,
          2015,
          2016,
          2017,
          2018,
          2019,
          2020,
          2021,
          2022
         ],
         "xaxis": "x",
         "y": [
          0.9937396446103324,
          1.2896562817325143,
          1.4673296757361143,
          1.4087524438002896,
          1.2370179437695403,
          1.0780759376173714,
          1.0299772679188588,
          0.8256090770047069,
          0.6753596852739081,
          0.58351967360198,
          0.5165712658157506
         ],
         "yaxis": "y"
        },
        {
         "hovertemplate": "Genres=Platform<br>Release Year=%{x}<br>Average Comment/Wishlist Conversion Rate=%{y}<extra></extra>",
         "legendgroup": "Platform",
         "line": {
          "color": "#EF553B",
          "dash": "solid"
         },
         "marker": {
          "symbol": "circle"
         },
         "mode": "lines+markers",
         "name": "Platform",
         "orientation": "v",
         "showlegend": true,
         "type": "scatter",
         "x": [
          2012,
          2013,
          2014,
          2015,
          2016,
          2017,
          2018,
          2019,
          2020,
          2021,
          2022
         ],
         "xaxis": "x",
         "y": [
          0.8885049302463058,
          1.5933934069790792,
          1.5341751227517442,
          1.2138013041834892,
          1.1509676530768491,
          0.8901607808201388,
          1.0759247269946863,
          0.8813298416676278,
          1.0318300878297135,
          0.8997696948956218,
          0.5343579517357896
         ],
         "yaxis": "y"
        },
        {
         "hovertemplate": "Genres=Puzzle<br>Release Year=%{x}<br>Average Comment/Wishlist Conversion Rate=%{y}<extra></extra>",
         "legendgroup": "Puzzle",
         "line": {
          "color": "#00cc96",
          "dash": "solid"
         },
         "marker": {
          "symbol": "circle"
         },
         "mode": "lines+markers",
         "name": "Puzzle",
         "orientation": "v",
         "showlegend": true,
         "type": "scatter",
         "x": [
          2012,
          2013,
          2014,
          2015,
          2016,
          2017,
          2018,
          2019,
          2020,
          2021,
          2022
         ],
         "xaxis": "x",
         "y": [
          0.8275217932752179,
          1.179844436398907,
          2.034268991399987,
          1.9474307346575568,
          1.6354834069339543,
          1.7346478816965718,
          1.1718239931931866,
          0.6966339214019648,
          0.7723182978223438,
          0.71280326985481,
          0.48678695613841494
         ],
         "yaxis": "y"
        },
        {
         "hovertemplate": "Genres=RPG<br>Release Year=%{x}<br>Average Comment/Wishlist Conversion Rate=%{y}<extra></extra>",
         "legendgroup": "RPG",
         "line": {
          "color": "#ab63fa",
          "dash": "solid"
         },
         "marker": {
          "symbol": "circle"
         },
         "mode": "lines+markers",
         "name": "RPG",
         "orientation": "v",
         "showlegend": true,
         "type": "scatter",
         "x": [
          2012,
          2013,
          2014,
          2015,
          2016,
          2017,
          2018,
          2019,
          2020,
          2021,
          2022
         ],
         "xaxis": "x",
         "y": [
          1.608910891089109,
          1.1181346908275733,
          0.7275346081358494,
          1.2353788283429281,
          1.4406644162824245,
          0.9203903312538142,
          0.655832211173552,
          0.7158137361636673,
          0.5953485441396634,
          0.6146306248417133,
          0.6071477003181048
         ],
         "yaxis": "y"
        },
        {
         "hovertemplate": "Genres=Simulator<br>Release Year=%{x}<br>Average Comment/Wishlist Conversion Rate=%{y}<extra></extra>",
         "legendgroup": "Simulator",
         "line": {
          "color": "#FFA15A",
          "dash": "solid"
         },
         "marker": {
          "symbol": "circle"
         },
         "mode": "lines+markers",
         "name": "Simulator",
         "orientation": "v",
         "showlegend": true,
         "type": "scatter",
         "x": [
          2012,
          2013,
          2014,
          2015,
          2016,
          2018,
          2019,
          2020,
          2021,
          2022
         ],
         "xaxis": "x",
         "y": [
          1.608910891089109,
          1.1181346908275733,
          1.4582757579443082,
          1.9499051289359686,
          1.563618061642598,
          1.2070480395853123,
          0.7905425720523429,
          0.6149844364590772,
          0.5658388899171829,
          0.5345294729683324
         ],
         "yaxis": "y"
        },
        {
         "hovertemplate": "Genres=Overall Average<br>Release Year=%{x}<br>Average Comment/Wishlist Conversion Rate=%{y}<extra></extra>",
         "legendgroup": "Overall Average",
         "line": {
          "color": "gray",
          "dash": "dash",
          "width": 3
         },
         "marker": {
          "symbol": "circle"
         },
         "mode": "lines+markers",
         "name": "Overall Average",
         "orientation": "v",
         "showlegend": true,
         "type": "scatter",
         "x": [
          2012,
          2013,
          2014,
          2015,
          2016,
          2017,
          2018,
          2019,
          2020,
          2021,
          2022
         ],
         "xaxis": "x",
         "y": [
          1.1855176300620147,
          1.2598327013531294,
          1.4443168311936005,
          1.5510536879840466,
          1.4055502963410733,
          1.155818732846974,
          1.0281212477731192,
          0.781985829658062,
          0.7379682103049412,
          0.6753124306222615,
          0.5358786693952785
         ],
         "yaxis": "y"
        }
       ],
       "layout": {
        "autosize": true,
        "hovermode": "x unified",
        "legend": {
         "title": {
          "text": "Genre"
         },
         "tracegroupgap": 0
        },
        "template": {
         "data": {
          "bar": [
           {
            "error_x": {
             "color": "#2a3f5f"
            },
            "error_y": {
             "color": "#2a3f5f"
            },
            "marker": {
             "line": {
              "color": "#E5ECF6",
              "width": 0.5
             },
             "pattern": {
              "fillmode": "overlay",
              "size": 10,
              "solidity": 0.2
             }
            },
            "type": "bar"
           }
          ],
          "barpolar": [
           {
            "marker": {
             "line": {
              "color": "#E5ECF6",
              "width": 0.5
             },
             "pattern": {
              "fillmode": "overlay",
              "size": 10,
              "solidity": 0.2
             }
            },
            "type": "barpolar"
           }
          ],
          "carpet": [
           {
            "aaxis": {
             "endlinecolor": "#2a3f5f",
             "gridcolor": "white",
             "linecolor": "white",
             "minorgridcolor": "white",
             "startlinecolor": "#2a3f5f"
            },
            "baxis": {
             "endlinecolor": "#2a3f5f",
             "gridcolor": "white",
             "linecolor": "white",
             "minorgridcolor": "white",
             "startlinecolor": "#2a3f5f"
            },
            "type": "carpet"
           }
          ],
          "choropleth": [
           {
            "colorbar": {
             "outlinewidth": 0,
             "ticks": ""
            },
            "type": "choropleth"
           }
          ],
          "contour": [
           {
            "colorbar": {
             "outlinewidth": 0,
             "ticks": ""
            },
            "colorscale": [
             [
              0,
              "#0d0887"
             ],
             [
              0.1111111111111111,
              "#46039f"
             ],
             [
              0.2222222222222222,
              "#7201a8"
             ],
             [
              0.3333333333333333,
              "#9c179e"
             ],
             [
              0.4444444444444444,
              "#bd3786"
             ],
             [
              0.5555555555555556,
              "#d8576b"
             ],
             [
              0.6666666666666666,
              "#ed7953"
             ],
             [
              0.7777777777777778,
              "#fb9f3a"
             ],
             [
              0.8888888888888888,
              "#fdca26"
             ],
             [
              1,
              "#f0f921"
             ]
            ],
            "type": "contour"
           }
          ],
          "contourcarpet": [
           {
            "colorbar": {
             "outlinewidth": 0,
             "ticks": ""
            },
            "type": "contourcarpet"
           }
          ],
          "heatmap": [
           {
            "colorbar": {
             "outlinewidth": 0,
             "ticks": ""
            },
            "colorscale": [
             [
              0,
              "#0d0887"
             ],
             [
              0.1111111111111111,
              "#46039f"
             ],
             [
              0.2222222222222222,
              "#7201a8"
             ],
             [
              0.3333333333333333,
              "#9c179e"
             ],
             [
              0.4444444444444444,
              "#bd3786"
             ],
             [
              0.5555555555555556,
              "#d8576b"
             ],
             [
              0.6666666666666666,
              "#ed7953"
             ],
             [
              0.7777777777777778,
              "#fb9f3a"
             ],
             [
              0.8888888888888888,
              "#fdca26"
             ],
             [
              1,
              "#f0f921"
             ]
            ],
            "type": "heatmap"
           }
          ],
          "heatmapgl": [
           {
            "colorbar": {
             "outlinewidth": 0,
             "ticks": ""
            },
            "colorscale": [
             [
              0,
              "#0d0887"
             ],
             [
              0.1111111111111111,
              "#46039f"
             ],
             [
              0.2222222222222222,
              "#7201a8"
             ],
             [
              0.3333333333333333,
              "#9c179e"
             ],
             [
              0.4444444444444444,
              "#bd3786"
             ],
             [
              0.5555555555555556,
              "#d8576b"
             ],
             [
              0.6666666666666666,
              "#ed7953"
             ],
             [
              0.7777777777777778,
              "#fb9f3a"
             ],
             [
              0.8888888888888888,
              "#fdca26"
             ],
             [
              1,
              "#f0f921"
             ]
            ],
            "type": "heatmapgl"
           }
          ],
          "histogram": [
           {
            "marker": {
             "pattern": {
              "fillmode": "overlay",
              "size": 10,
              "solidity": 0.2
             }
            },
            "type": "histogram"
           }
          ],
          "histogram2d": [
           {
            "colorbar": {
             "outlinewidth": 0,
             "ticks": ""
            },
            "colorscale": [
             [
              0,
              "#0d0887"
             ],
             [
              0.1111111111111111,
              "#46039f"
             ],
             [
              0.2222222222222222,
              "#7201a8"
             ],
             [
              0.3333333333333333,
              "#9c179e"
             ],
             [
              0.4444444444444444,
              "#bd3786"
             ],
             [
              0.5555555555555556,
              "#d8576b"
             ],
             [
              0.6666666666666666,
              "#ed7953"
             ],
             [
              0.7777777777777778,
              "#fb9f3a"
             ],
             [
              0.8888888888888888,
              "#fdca26"
             ],
             [
              1,
              "#f0f921"
             ]
            ],
            "type": "histogram2d"
           }
          ],
          "histogram2dcontour": [
           {
            "colorbar": {
             "outlinewidth": 0,
             "ticks": ""
            },
            "colorscale": [
             [
              0,
              "#0d0887"
             ],
             [
              0.1111111111111111,
              "#46039f"
             ],
             [
              0.2222222222222222,
              "#7201a8"
             ],
             [
              0.3333333333333333,
              "#9c179e"
             ],
             [
              0.4444444444444444,
              "#bd3786"
             ],
             [
              0.5555555555555556,
              "#d8576b"
             ],
             [
              0.6666666666666666,
              "#ed7953"
             ],
             [
              0.7777777777777778,
              "#fb9f3a"
             ],
             [
              0.8888888888888888,
              "#fdca26"
             ],
             [
              1,
              "#f0f921"
             ]
            ],
            "type": "histogram2dcontour"
           }
          ],
          "mesh3d": [
           {
            "colorbar": {
             "outlinewidth": 0,
             "ticks": ""
            },
            "type": "mesh3d"
           }
          ],
          "parcoords": [
           {
            "line": {
             "colorbar": {
              "outlinewidth": 0,
              "ticks": ""
             }
            },
            "type": "parcoords"
           }
          ],
          "pie": [
           {
            "automargin": true,
            "type": "pie"
           }
          ],
          "scatter": [
           {
            "fillpattern": {
             "fillmode": "overlay",
             "size": 10,
             "solidity": 0.2
            },
            "type": "scatter"
           }
          ],
          "scatter3d": [
           {
            "line": {
             "colorbar": {
              "outlinewidth": 0,
              "ticks": ""
             }
            },
            "marker": {
             "colorbar": {
              "outlinewidth": 0,
              "ticks": ""
             }
            },
            "type": "scatter3d"
           }
          ],
          "scattercarpet": [
           {
            "marker": {
             "colorbar": {
              "outlinewidth": 0,
              "ticks": ""
             }
            },
            "type": "scattercarpet"
           }
          ],
          "scattergeo": [
           {
            "marker": {
             "colorbar": {
              "outlinewidth": 0,
              "ticks": ""
             }
            },
            "type": "scattergeo"
           }
          ],
          "scattergl": [
           {
            "marker": {
             "colorbar": {
              "outlinewidth": 0,
              "ticks": ""
             }
            },
            "type": "scattergl"
           }
          ],
          "scattermapbox": [
           {
            "marker": {
             "colorbar": {
              "outlinewidth": 0,
              "ticks": ""
             }
            },
            "type": "scattermapbox"
           }
          ],
          "scatterpolar": [
           {
            "marker": {
             "colorbar": {
              "outlinewidth": 0,
              "ticks": ""
             }
            },
            "type": "scatterpolar"
           }
          ],
          "scatterpolargl": [
           {
            "marker": {
             "colorbar": {
              "outlinewidth": 0,
              "ticks": ""
             }
            },
            "type": "scatterpolargl"
           }
          ],
          "scatterternary": [
           {
            "marker": {
             "colorbar": {
              "outlinewidth": 0,
              "ticks": ""
             }
            },
            "type": "scatterternary"
           }
          ],
          "surface": [
           {
            "colorbar": {
             "outlinewidth": 0,
             "ticks": ""
            },
            "colorscale": [
             [
              0,
              "#0d0887"
             ],
             [
              0.1111111111111111,
              "#46039f"
             ],
             [
              0.2222222222222222,
              "#7201a8"
             ],
             [
              0.3333333333333333,
              "#9c179e"
             ],
             [
              0.4444444444444444,
              "#bd3786"
             ],
             [
              0.5555555555555556,
              "#d8576b"
             ],
             [
              0.6666666666666666,
              "#ed7953"
             ],
             [
              0.7777777777777778,
              "#fb9f3a"
             ],
             [
              0.8888888888888888,
              "#fdca26"
             ],
             [
              1,
              "#f0f921"
             ]
            ],
            "type": "surface"
           }
          ],
          "table": [
           {
            "cells": {
             "fill": {
              "color": "#EBF0F8"
             },
             "line": {
              "color": "white"
             }
            },
            "header": {
             "fill": {
              "color": "#C8D4E3"
             },
             "line": {
              "color": "white"
             }
            },
            "type": "table"
           }
          ]
         },
         "layout": {
          "annotationdefaults": {
           "arrowcolor": "#2a3f5f",
           "arrowhead": 0,
           "arrowwidth": 1
          },
          "autotypenumbers": "strict",
          "coloraxis": {
           "colorbar": {
            "outlinewidth": 0,
            "ticks": ""
           }
          },
          "colorscale": {
           "diverging": [
            [
             0,
             "#8e0152"
            ],
            [
             0.1,
             "#c51b7d"
            ],
            [
             0.2,
             "#de77ae"
            ],
            [
             0.3,
             "#f1b6da"
            ],
            [
             0.4,
             "#fde0ef"
            ],
            [
             0.5,
             "#f7f7f7"
            ],
            [
             0.6,
             "#e6f5d0"
            ],
            [
             0.7,
             "#b8e186"
            ],
            [
             0.8,
             "#7fbc41"
            ],
            [
             0.9,
             "#4d9221"
            ],
            [
             1,
             "#276419"
            ]
           ],
           "sequential": [
            [
             0,
             "#0d0887"
            ],
            [
             0.1111111111111111,
             "#46039f"
            ],
            [
             0.2222222222222222,
             "#7201a8"
            ],
            [
             0.3333333333333333,
             "#9c179e"
            ],
            [
             0.4444444444444444,
             "#bd3786"
            ],
            [
             0.5555555555555556,
             "#d8576b"
            ],
            [
             0.6666666666666666,
             "#ed7953"
            ],
            [
             0.7777777777777778,
             "#fb9f3a"
            ],
            [
             0.8888888888888888,
             "#fdca26"
            ],
            [
             1,
             "#f0f921"
            ]
           ],
           "sequentialminus": [
            [
             0,
             "#0d0887"
            ],
            [
             0.1111111111111111,
             "#46039f"
            ],
            [
             0.2222222222222222,
             "#7201a8"
            ],
            [
             0.3333333333333333,
             "#9c179e"
            ],
            [
             0.4444444444444444,
             "#bd3786"
            ],
            [
             0.5555555555555556,
             "#d8576b"
            ],
            [
             0.6666666666666666,
             "#ed7953"
            ],
            [
             0.7777777777777778,
             "#fb9f3a"
            ],
            [
             0.8888888888888888,
             "#fdca26"
            ],
            [
             1,
             "#f0f921"
            ]
           ]
          },
          "colorway": [
           "#636efa",
           "#EF553B",
           "#00cc96",
           "#ab63fa",
           "#FFA15A",
           "#19d3f3",
           "#FF6692",
           "#B6E880",
           "#FF97FF",
           "#FECB52"
          ],
          "font": {
           "color": "#2a3f5f"
          },
          "geo": {
           "bgcolor": "white",
           "lakecolor": "white",
           "landcolor": "#E5ECF6",
           "showlakes": true,
           "showland": true,
           "subunitcolor": "white"
          },
          "hoverlabel": {
           "align": "left"
          },
          "hovermode": "closest",
          "mapbox": {
           "style": "light"
          },
          "paper_bgcolor": "white",
          "plot_bgcolor": "#E5ECF6",
          "polar": {
           "angularaxis": {
            "gridcolor": "white",
            "linecolor": "white",
            "ticks": ""
           },
           "bgcolor": "#E5ECF6",
           "radialaxis": {
            "gridcolor": "white",
            "linecolor": "white",
            "ticks": ""
           }
          },
          "scene": {
           "xaxis": {
            "backgroundcolor": "#E5ECF6",
            "gridcolor": "white",
            "gridwidth": 2,
            "linecolor": "white",
            "showbackground": true,
            "ticks": "",
            "zerolinecolor": "white"
           },
           "yaxis": {
            "backgroundcolor": "#E5ECF6",
            "gridcolor": "white",
            "gridwidth": 2,
            "linecolor": "white",
            "showbackground": true,
            "ticks": "",
            "zerolinecolor": "white"
           },
           "zaxis": {
            "backgroundcolor": "#E5ECF6",
            "gridcolor": "white",
            "gridwidth": 2,
            "linecolor": "white",
            "showbackground": true,
            "ticks": "",
            "zerolinecolor": "white"
           }
          },
          "shapedefaults": {
           "line": {
            "color": "#2a3f5f"
           }
          },
          "ternary": {
           "aaxis": {
            "gridcolor": "white",
            "linecolor": "white",
            "ticks": ""
           },
           "baxis": {
            "gridcolor": "white",
            "linecolor": "white",
            "ticks": ""
           },
           "bgcolor": "#E5ECF6",
           "caxis": {
            "gridcolor": "white",
            "linecolor": "white",
            "ticks": ""
           }
          },
          "title": {
           "x": 0.05
          },
          "xaxis": {
           "automargin": true,
           "gridcolor": "white",
           "linecolor": "white",
           "ticks": "",
           "title": {
            "standoff": 15
           },
           "zerolinecolor": "white",
           "zerolinewidth": 2
          },
          "yaxis": {
           "automargin": true,
           "gridcolor": "white",
           "linecolor": "white",
           "ticks": "",
           "title": {
            "standoff": 15
           },
           "zerolinecolor": "white",
           "zerolinewidth": 2
          }
         }
        },
        "title": {
         "text": "Comment Conversion Rate Trends of Top 5 Genres Over Time"
        },
        "xaxis": {
         "anchor": "y",
         "autorange": true,
         "domain": [
          0,
          1
         ],
         "range": [
          2011.3690023537931,
          2022.6309976462069
         ],
         "title": {
          "text": "Release Year"
         },
         "type": "linear"
        },
        "yaxis": {
         "anchor": "x",
         "autorange": true,
         "domain": [
          0,
          1
         ],
         "range": [
          0.35908212798576095,
          2.161973819552641
         ],
         "title": {
          "text": "Comment-to-Wishlist Rate"
         },
         "type": "linear"
        }
       }
      },
      "image/png": "[encoded data removed]",
      "text/html": [
       "<div>                            <div id=\"7116be25-bfd8-47bf-a2ab-72d5afdf3aa8\" class=\"plotly-graph-div\" style=\"height:525px; width:100%;\"></div>            <script type=\"text/javascript\">                require([\"plotly\"], function(Plotly) {                    window.PLOTLYENV=window.PLOTLYENV || {};                                    if (document.getElementById(\"7116be25-bfd8-47bf-a2ab-72d5afdf3aa8\")) {                    Plotly.newPlot(                        \"7116be25-bfd8-47bf-a2ab-72d5afdf3aa8\",                        [{\"hovertemplate\":\"Genres=Adventure\\u003cbr\\u003eRelease Year=%{x}\\u003cbr\\u003eAverage Comment\\u002fWishlist Conversion Rate=%{y}\\u003cextra\\u003e\\u003c\\u002fextra\\u003e\",\"legendgroup\":\"Adventure\",\"line\":{\"color\":\"#636efa\",\"dash\":\"solid\"},\"marker\":{\"symbol\":\"circle\"},\"mode\":\"lines+markers\",\"name\":\"Adventure\",\"orientation\":\"v\",\"showlegend\":true,\"x\":[2012,2013,2014,2015,2016,2017,2018,2019,2020,2021,2022],\"xaxis\":\"x\",\"y\":[0.9937396446103324,1.2896562817325143,1.4673296757361143,1.4087524438002896,1.2370179437695403,1.0780759376173714,1.0299772679188588,0.8256090770047069,0.6753596852739081,0.58351967360198,0.5165712658157506],\"yaxis\":\"y\",\"type\":\"scatter\"},{\"hovertemplate\":\"Genres=Platform\\u003cbr\\u003eRelease Year=%{x}\\u003cbr\\u003eAverage Comment\\u002fWishlist Conversion Rate=%{y}\\u003cextra\\u003e\\u003c\\u002fextra\\u003e\",\"legendgroup\":\"Platform\",\"line\":{\"color\":\"#EF553B\",\"dash\":\"solid\"},\"marker\":{\"symbol\":\"circle\"},\"mode\":\"lines+markers\",\"name\":\"Platform\",\"orientation\":\"v\",\"showlegend\":true,\"x\":[2012,2013,2014,2015,2016,2017,2018,2019,2020,2021,2022],\"xaxis\":\"x\",\"y\":[0.8885049302463058,1.5933934069790792,1.5341751227517442,1.2138013041834892,1.1509676530768491,0.8901607808201388,1.0759247269946863,0.8813298416676278,1.0318300878297135,0.8997696948956218,0.5343579517357896],\"yaxis\":\"y\",\"type\":\"scatter\"},{\"hovertemplate\":\"Genres=Puzzle\\u003cbr\\u003eRelease Year=%{x}\\u003cbr\\u003eAverage Comment\\u002fWishlist Conversion Rate=%{y}\\u003cextra\\u003e\\u003c\\u002fextra\\u003e\",\"legendgroup\":\"Puzzle\",\"line\":{\"color\":\"#00cc96\",\"dash\":\"solid\"},\"marker\":{\"symbol\":\"circle\"},\"mode\":\"lines+markers\",\"name\":\"Puzzle\",\"orientation\":\"v\",\"showlegend\":true,\"x\":[2012,2013,2014,2015,2016,2017,2018,2019,2020,2021,2022],\"xaxis\":\"x\",\"y\":[0.8275217932752179,1.179844436398907,2.034268991399987,1.9474307346575568,1.6354834069339543,1.7346478816965718,1.1718239931931866,0.6966339214019648,0.7723182978223438,0.71280326985481,0.48678695613841494],\"yaxis\":\"y\",\"type\":\"scatter\"},{\"hovertemplate\":\"Genres=RPG\\u003cbr\\u003eRelease Year=%{x}\\u003cbr\\u003eAverage Comment\\u002fWishlist Conversion Rate=%{y}\\u003cextra\\u003e\\u003c\\u002fextra\\u003e\",\"legendgroup\":\"RPG\",\"line\":{\"color\":\"#ab63fa\",\"dash\":\"solid\"},\"marker\":{\"symbol\":\"circle\"},\"mode\":\"lines+markers\",\"name\":\"RPG\",\"orientation\":\"v\",\"showlegend\":true,\"x\":[2012,2013,2014,2015,2016,2017,2018,2019,2020,2021,2022],\"xaxis\":\"x\",\"y\":[1.608910891089109,1.1181346908275733,0.7275346081358494,1.2353788283429281,1.4406644162824245,0.9203903312538142,0.655832211173552,0.7158137361636673,0.5953485441396634,0.6146306248417133,0.6071477003181048],\"yaxis\":\"y\",\"type\":\"scatter\"},{\"hovertemplate\":\"Genres=Simulator\\u003cbr\\u003eRelease Year=%{x}\\u003cbr\\u003eAverage Comment\\u002fWishlist Conversion Rate=%{y}\\u003cextra\\u003e\\u003c\\u002fextra\\u003e\",\"legendgroup\":\"Simulator\",\"line\":{\"color\":\"#FFA15A\",\"dash\":\"solid\"},\"marker\":{\"symbol\":\"circle\"},\"mode\":\"lines+markers\",\"name\":\"Simulator\",\"orientation\":\"v\",\"showlegend\":true,\"x\":[2012,2013,2014,2015,2016,2018,2019,2020,2021,2022],\"xaxis\":\"x\",\"y\":[1.608910891089109,1.1181346908275733,1.4582757579443082,1.9499051289359686,1.563618061642598,1.2070480395853123,0.7905425720523429,0.6149844364590772,0.5658388899171829,0.5345294729683324],\"yaxis\":\"y\",\"type\":\"scatter\"},{\"hovertemplate\":\"Genres=Overall Average\\u003cbr\\u003eRelease Year=%{x}\\u003cbr\\u003eAverage Comment\\u002fWishlist Conversion Rate=%{y}\\u003cextra\\u003e\\u003c\\u002fextra\\u003e\",\"legendgroup\":\"Overall Average\",\"line\":{\"color\":\"gray\",\"dash\":\"dash\",\"width\":3},\"marker\":{\"symbol\":\"circle\"},\"mode\":\"lines+markers\",\"name\":\"Overall Average\",\"orientation\":\"v\",\"showlegend\":true,\"x\":[2012,2013,2014,2015,2016,2017,2018,2019,2020,2021,2022],\"xaxis\":\"x\",\"y\":[1.1855176300620147,1.2598327013531294,1.4443168311936005,1.5510536879840466,1.4055502963410733,1.155818732846974,1.0281212477731192,0.781985829658062,0.7379682103049412,0.6753124306222615,0.5358786693952785],\"yaxis\":\"y\",\"type\":\"scatter\"}],                        {\"template\":{\"data\":{\"histogram2dcontour\":[{\"type\":\"histogram2dcontour\",\"colorbar\":{\"outlinewidth\":0,\"ticks\":\"\"},\"colorscale\":[[0.0,\"#0d0887\"],[0.1111111111111111,\"#46039f\"],[0.2222222222222222,\"#7201a8\"],[0.3333333333333333,\"#9c179e\"],[0.4444444444444444,\"#bd3786\"],[0.5555555555555556,\"#d8576b\"],[0.6666666666666666,\"#ed7953\"],[0.7777777777777778,\"#fb9f3a\"],[0.8888888888888888,\"#fdca26\"],[1.0,\"#f0f921\"]]}],\"choropleth\":[{\"type\":\"choropleth\",\"colorbar\":{\"outlinewidth\":0,\"ticks\":\"\"}}],\"histogram2d\":[{\"type\":\"histogram2d\",\"colorbar\":{\"outlinewidth\":0,\"ticks\":\"\"},\"colorscale\":[[0.0,\"#0d0887\"],[0.1111111111111111,\"#46039f\"],[0.2222222222222222,\"#7201a8\"],[0.3333333333333333,\"#9c179e\"],[0.4444444444444444,\"#bd3786\"],[0.5555555555555556,\"#d8576b\"],[0.6666666666666666,\"#ed7953\"],[0.7777777777777778,\"#fb9f3a\"],[0.8888888888888888,\"#fdca26\"],[1.0,\"#f0f921\"]]}],\"heatmap\":[{\"type\":\"heatmap\",\"colorbar\":{\"outlinewidth\":0,\"ticks\":\"\"},\"colorscale\":[[0.0,\"#0d0887\"],[0.1111111111111111,\"#46039f\"],[0.2222222222222222,\"#7201a8\"],[0.3333333333333333,\"#9c179e\"],[0.4444444444444444,\"#bd3786\"],[0.5555555555555556,\"#d8576b\"],[0.6666666666666666,\"#ed7953\"],[0.7777777777777778,\"#fb9f3a\"],[0.8888888888888888,\"#fdca26\"],[1.0,\"#f0f921\"]]}],\"heatmapgl\":[{\"type\":\"heatmapgl\",\"colorbar\":{\"outlinewidth\":0,\"ticks\":\"\"},\"colorscale\":[[0.0,\"#0d0887\"],[0.1111111111111111,\"#46039f\"],[0.2222222222222222,\"#7201a8\"],[0.3333333333333333,\"#9c179e\"],[0.4444444444444444,\"#bd3786\"],[0.5555555555555556,\"#d8576b\"],[0.6666666666666666,\"#ed7953\"],[0.7777777777777778,\"#fb9f3a\"],[0.8888888888888888,\"#fdca26\"],[1.0,\"#f0f921\"]]}],\"contourcarpet\":[{\"type\":\"contourcarpet\",\"colorbar\":{\"outlinewidth\":0,\"ticks\":\"\"}}],\"contour\":[{\"type\":\"contour\",\"colorbar\":{\"outlinewidth\":0,\"ticks\":\"\"},\"colorscale\":[[0.0,\"#0d0887\"],[0.1111111111111111,\"#46039f\"],[0.2222222222222222,\"#7201a8\"],[0.3333333333333333,\"#9c179e\"],[0.4444444444444444,\"#bd3786\"],[0.5555555555555556,\"#d8576b\"],[0.6666666666666666,\"#ed7953\"],[0.7777777777777778,\"#fb9f3a\"],[0.8888888888888888,\"#fdca26\"],[1.0,\"#f0f921\"]]}],\"surface\":[{\"type\":\"surface\",\"colorbar\":{\"outlinewidth\":0,\"ticks\":\"\"},\"colorscale\":[[0.0,\"#0d0887\"],[0.1111111111111111,\"#46039f\"],[0.2222222222222222,\"#7201a8\"],[0.3333333333333333,\"#9c179e\"],[0.4444444444444444,\"#bd3786\"],[0.5555555555555556,\"#d8576b\"],[0.6666666666666666,\"#ed7953\"],[0.7777777777777778,\"#fb9f3a\"],[0.8888888888888888,\"#fdca26\"],[1.0,\"#f0f921\"]]}],\"mesh3d\":[{\"type\":\"mesh3d\",\"colorbar\":{\"outlinewidth\":0,\"ticks\":\"\"}}],\"scatter\":[{\"fillpattern\":{\"fillmode\":\"overlay\",\"size\":10,\"solidity\":0.2},\"type\":\"scatter\"}],\"parcoords\":[{\"type\":\"parcoords\",\"line\":{\"colorbar\":{\"outlinewidth\":0,\"ticks\":\"\"}}}],\"scatterpolargl\":[{\"type\":\"scatterpolargl\",\"marker\":{\"colorbar\":{\"outlinewidth\":0,\"ticks\":\"\"}}}],\"bar\":[{\"error_x\":{\"color\":\"#2a3f5f\"},\"error_y\":{\"color\":\"#2a3f5f\"},\"marker\":{\"line\":{\"color\":\"#E5ECF6\",\"width\":0.5},\"pattern\":{\"fillmode\":\"overlay\",\"size\":10,\"solidity\":0.2}},\"type\":\"bar\"}],\"scattergeo\":[{\"type\":\"scattergeo\",\"marker\":{\"colorbar\":{\"outlinewidth\":0,\"ticks\":\"\"}}}],\"scatterpolar\":[{\"type\":\"scatterpolar\",\"marker\":{\"colorbar\":{\"outlinewidth\":0,\"ticks\":\"\"}}}],\"histogram\":[{\"marker\":{\"pattern\":{\"fillmode\":\"overlay\",\"size\":10,\"solidity\":0.2}},\"type\":\"histogram\"}],\"scattergl\":[{\"type\":\"scattergl\",\"marker\":{\"colorbar\":{\"outlinewidth\":0,\"ticks\":\"\"}}}],\"scatter3d\":[{\"type\":\"scatter3d\",\"line\":{\"colorbar\":{\"outlinewidth\":0,\"ticks\":\"\"}},\"marker\":{\"colorbar\":{\"outlinewidth\":0,\"ticks\":\"\"}}}],\"scattermapbox\":[{\"type\":\"scattermapbox\",\"marker\":{\"colorbar\":{\"outlinewidth\":0,\"ticks\":\"\"}}}],\"scatterternary\":[{\"type\":\"scatterternary\",\"marker\":{\"colorbar\":{\"outlinewidth\":0,\"ticks\":\"\"}}}],\"scattercarpet\":[{\"type\":\"scattercarpet\",\"marker\":{\"colorbar\":{\"outlinewidth\":0,\"ticks\":\"\"}}}],\"carpet\":[{\"aaxis\":{\"endlinecolor\":\"#2a3f5f\",\"gridcolor\":\"white\",\"linecolor\":\"white\",\"minorgridcolor\":\"white\",\"startlinecolor\":\"#2a3f5f\"},\"baxis\":{\"endlinecolor\":\"#2a3f5f\",\"gridcolor\":\"white\",\"linecolor\":\"white\",\"minorgridcolor\":\"white\",\"startlinecolor\":\"#2a3f5f\"},\"type\":\"carpet\"}],\"table\":[{\"cells\":{\"fill\":{\"color\":\"#EBF0F8\"},\"line\":{\"color\":\"white\"}},\"header\":{\"fill\":{\"color\":\"#C8D4E3\"},\"line\":{\"color\":\"white\"}},\"type\":\"table\"}],\"barpolar\":[{\"marker\":{\"line\":{\"color\":\"#E5ECF6\",\"width\":0.5},\"pattern\":{\"fillmode\":\"overlay\",\"size\":10,\"solidity\":0.2}},\"type\":\"barpolar\"}],\"pie\":[{\"automargin\":true,\"type\":\"pie\"}]},\"layout\":{\"autotypenumbers\":\"strict\",\"colorway\":[\"#636efa\",\"#EF553B\",\"#00cc96\",\"#ab63fa\",\"#FFA15A\",\"#19d3f3\",\"#FF6692\",\"#B6E880\",\"#FF97FF\",\"#FECB52\"],\"font\":{\"color\":\"#2a3f5f\"},\"hovermode\":\"closest\",\"hoverlabel\":{\"align\":\"left\"},\"paper_bgcolor\":\"white\",\"plot_bgcolor\":\"#E5ECF6\",\"polar\":{\"bgcolor\":\"#E5ECF6\",\"angularaxis\":{\"gridcolor\":\"white\",\"linecolor\":\"white\",\"ticks\":\"\"},\"radialaxis\":{\"gridcolor\":\"white\",\"linecolor\":\"white\",\"ticks\":\"\"}},\"ternary\":{\"bgcolor\":\"#E5ECF6\",\"aaxis\":{\"gridcolor\":\"white\",\"linecolor\":\"white\",\"ticks\":\"\"},\"baxis\":{\"gridcolor\":\"white\",\"linecolor\":\"white\",\"ticks\":\"\"},\"caxis\":{\"gridcolor\":\"white\",\"linecolor\":\"white\",\"ticks\":\"\"}},\"coloraxis\":{\"colorbar\":{\"outlinewidth\":0,\"ticks\":\"\"}},\"colorscale\":{\"sequential\":[[0.0,\"#0d0887\"],[0.1111111111111111,\"#46039f\"],[0.2222222222222222,\"#7201a8\"],[0.3333333333333333,\"#9c179e\"],[0.4444444444444444,\"#bd3786\"],[0.5555555555555556,\"#d8576b\"],[0.6666666666666666,\"#ed7953\"],[0.7777777777777778,\"#fb9f3a\"],[0.8888888888888888,\"#fdca26\"],[1.0,\"#f0f921\"]],\"sequentialminus\":[[0.0,\"#0d0887\"],[0.1111111111111111,\"#46039f\"],[0.2222222222222222,\"#7201a8\"],[0.3333333333333333,\"#9c179e\"],[0.4444444444444444,\"#bd3786\"],[0.5555555555555556,\"#d8576b\"],[0.6666666666666666,\"#ed7953\"],[0.7777777777777778,\"#fb9f3a\"],[0.8888888888888888,\"#fdca26\"],[1.0,\"#f0f921\"]],\"diverging\":[[0,\"#8e0152\"],[0.1,\"#c51b7d\"],[0.2,\"#de77ae\"],[0.3,\"#f1b6da\"],[0.4,\"#fde0ef\"],[0.5,\"#f7f7f7\"],[0.6,\"#e6f5d0\"],[0.7,\"#b8e186\"],[0.8,\"#7fbc41\"],[0.9,\"#4d9221\"],[1,\"#276419\"]]},\"xaxis\":{\"gridcolor\":\"white\",\"linecolor\":\"white\",\"ticks\":\"\",\"title\":{\"standoff\":15},\"zerolinecolor\":\"white\",\"automargin\":true,\"zerolinewidth\":2},\"yaxis\":{\"gridcolor\":\"white\",\"linecolor\":\"white\",\"ticks\":\"\",\"title\":{\"standoff\":15},\"zerolinecolor\":\"white\",\"automargin\":true,\"zerolinewidth\":2},\"scene\":{\"xaxis\":{\"backgroundcolor\":\"#E5ECF6\",\"gridcolor\":\"white\",\"linecolor\":\"white\",\"showbackground\":true,\"ticks\":\"\",\"zerolinecolor\":\"white\",\"gridwidth\":2},\"yaxis\":{\"backgroundcolor\":\"#E5ECF6\",\"gridcolor\":\"white\",\"linecolor\":\"white\",\"showbackground\":true,\"ticks\":\"\",\"zerolinecolor\":\"white\",\"gridwidth\":2},\"zaxis\":{\"backgroundcolor\":\"#E5ECF6\",\"gridcolor\":\"white\",\"linecolor\":\"white\",\"showbackground\":true,\"ticks\":\"\",\"zerolinecolor\":\"white\",\"gridwidth\":2}},\"shapedefaults\":{\"line\":{\"color\":\"#2a3f5f\"}},\"annotationdefaults\":{\"arrowcolor\":\"#2a3f5f\",\"arrowhead\":0,\"arrowwidth\":1},\"geo\":{\"bgcolor\":\"white\",\"landcolor\":\"#E5ECF6\",\"subunitcolor\":\"white\",\"showland\":true,\"showlakes\":true,\"lakecolor\":\"white\"},\"title\":{\"x\":0.05},\"mapbox\":{\"style\":\"light\"}}},\"xaxis\":{\"anchor\":\"y\",\"domain\":[0.0,1.0],\"title\":{\"text\":\"Release Year\"}},\"yaxis\":{\"anchor\":\"x\",\"domain\":[0.0,1.0],\"title\":{\"text\":\"Comment-to-Wishlist Rate\"}},\"legend\":{\"title\":{\"text\":\"Genre\"},\"tracegroupgap\":0},\"title\":{\"text\":\"Comment Conversion Rate Trends of Top 5 Genres Over Time\"},\"hovermode\":\"x unified\"},                        {\"responsive\": true}                    ).then(function(){\n",
       "                            \n",
       "var gd = document.getElementById('7116be25-bfd8-47bf-a2ab-72d5afdf3aa8');\n",
       "var x = new MutationObserver(function (mutations, observer) {{\n",
       "        var display = window.getComputedStyle(gd).display;\n",
       "        if (!display || display === 'none') {{\n",
       "            console.log([gd, 'removed!']);\n",
       "            Plotly.purge(gd);\n",
       "            observer.disconnect();\n",
       "        }}\n",
       "}});\n",
       "\n",
       "// Listen for the removal of the full notebook cells\n",
       "var notebookContainer = gd.closest('#notebook-container');\n",
       "if (notebookContainer) {{\n",
       "    x.observe(notebookContainer, {childList: true});\n",
       "}}\n",
       "\n",
       "// Listen for the clearing of the current output cell\n",
       "var outputEl = gd.closest('.output');\n",
       "if (outputEl) {{\n",
       "    x.observe(outputEl, {childList: true});\n",
       "}}\n",
       "\n",
       "                        })                };                });            </script>        </div>"
      ]
     },
     "metadata": {},
     "output_type": "display_data"
    }
   ],
   "source": [
    "df_summary = (\n",
    "    df_top5.groupby(['Release Year', 'Genres'])['comment_conversion_rate']\n",
    "    .mean()\n",
    "    .reset_index()\n",
    ")\n",
    "\n",
    "#smoothing\n",
    "df_summary['SmoothedRate'] = (\n",
    "    df_summary.groupby('Genres')['comment_conversion_rate']\n",
    "    .transform(lambda x: x.rolling(window=2, min_periods=1).mean())\n",
    ")\n",
    "#average baseline\n",
    "df_avg = (\n",
    "    df_summary.groupby('Release Year')['SmoothedRate']\n",
    "    .mean()\n",
    "    .reset_index()\n",
    ")\n",
    "df_avg['Genres'] = 'Overall Average'\n",
    "df_combined = pd.concat([df_summary, df_avg], ignore_index=True)\n",
    "\n",
    "# plot line chart\n",
    "fig_top5 = px.line(\n",
    "    df_combined,\n",
    "    x='Release Year',\n",
    "    y='SmoothedRate',\n",
    "    color='Genres',\n",
    "    markers=True,\n",
    "    title='Comment Conversion Rate Trends of Top 5 Genres Over Time',\n",
    "    labels={'SmoothedRate': 'Average Comment/Wishlist Conversion Rate'}\n",
    ")\n",
    "#baseline format\n",
    "fig_top5.for_each_trace(\n",
    "    lambda trace: trace.update(\n",
    "        line=dict(color='gray', width=3, dash='dash'),\n",
    "        name='Overall Average'\n",
    "    ) if trace.name == 'Overall Average' else ()\n",
    ")\n",
    "fig_top5.update_layout(\n",
    "    xaxis_title='Release Year',\n",
    "    yaxis_title='Comment-to-Wishlist Rate',\n",
    "    legend_title='Genre',\n",
    "    hovermode='x unified'\n",
    ")\n",
    "\n",
    "fig_top5.show()"
   ]
  },
  {
   "cell_type": "code",
   "execution_count": null,
   "id": "2c26899f-bc19-4b2b-b5ee-25075052a4fd",
   "metadata": {},
   "outputs": [],
   "source": []
  },
  {
   "cell_type": "code",
   "execution_count": null,
   "id": "a1dc30f2-ceb1-4647-88da-1f06ef161916",
   "metadata": {},
   "outputs": [],
   "source": []
  }
 ],
 "metadata": {
  "kernelspec": {
   "display_name": "Python 3 (ipykernel)",
   "language": "python",
   "name": "python3"
  },
  "language_info": {
   "codemirror_mode": {
    "name": "ipython",
    "version": 3
   },
   "file_extension": ".py",
   "mimetype": "text/x-python",
   "name": "python",
   "nbconvert_exporter": "python",
   "pygments_lexer": "ipython3",
   "version": "3.12.4"
  }
 },
 "nbformat": 4,
 "nbformat_minor": 5
}
